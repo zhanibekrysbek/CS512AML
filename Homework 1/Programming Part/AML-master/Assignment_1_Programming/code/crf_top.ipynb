{
 "cells": [
  {
   "cell_type": "code",
   "execution_count": 1,
   "metadata": {},
   "outputs": [
    {
     "name": "stdout",
     "output_type": "stream",
     "text": [
      "['/Users/zhanibek/Google Drive/Graduate Courses/Spring 2020/CS 512 Advanved Machine Learning/Homework 1/Programming Part/AML-master/Assignment_1_Programming/code/lib_liblinear/python', '/Users/zhanibek/anaconda3/lib/python36.zip', '/Users/zhanibek/anaconda3/lib/python3.6', '/Users/zhanibek/anaconda3/lib/python3.6/lib-dynload', '', '/Users/zhanibek/.local/lib/python3.6/site-packages', '/Users/zhanibek/anaconda3/lib/python3.6/site-packages', '/Users/zhanibek/anaconda3/lib/python3.6/site-packages/IPython/extensions', '/Users/zhanibek/.ipython']\n"
     ]
    },
    {
     "ename": "Exception",
     "evalue": "LIBLINEAR library not found.",
     "output_type": "error",
     "traceback": [
      "\u001b[0;31m---------------------------------------------------------------------------\u001b[0m",
      "\u001b[0;31mOSError\u001b[0m                                   Traceback (most recent call last)",
      "\u001b[0;32m~/Google Drive/Graduate Courses/Spring 2020/CS 512 Advanved Machine Learning/Homework 1/Programming Part/AML-master/Assignment_1_Programming/code/lib_liblinear/python/liblinear.py\u001b[0m in \u001b[0;36m<module>\u001b[0;34m\u001b[0m\n\u001b[1;32m     29\u001b[0m         \u001b[0;32melse\u001b[0m\u001b[0;34m:\u001b[0m\u001b[0;34m\u001b[0m\u001b[0;34m\u001b[0m\u001b[0m\n\u001b[0;32m---> 30\u001b[0;31m                 \u001b[0mliblinear\u001b[0m \u001b[0;34m=\u001b[0m \u001b[0mCDLL\u001b[0m\u001b[0;34m(\u001b[0m\u001b[0mpath\u001b[0m\u001b[0;34m.\u001b[0m\u001b[0mjoin\u001b[0m\u001b[0;34m(\u001b[0m\u001b[0mdirname\u001b[0m\u001b[0;34m,\u001b[0m \u001b[0;34m'../liblinear.so.3'\u001b[0m\u001b[0;34m)\u001b[0m\u001b[0;34m)\u001b[0m\u001b[0;34m\u001b[0m\u001b[0;34m\u001b[0m\u001b[0m\n\u001b[0m\u001b[1;32m     31\u001b[0m \u001b[0;32mexcept\u001b[0m\u001b[0;34m:\u001b[0m\u001b[0;34m\u001b[0m\u001b[0;34m\u001b[0m\u001b[0m\n",
      "\u001b[0;32m~/anaconda3/lib/python3.6/ctypes/__init__.py\u001b[0m in \u001b[0;36m__init__\u001b[0;34m(self, name, mode, handle, use_errno, use_last_error)\u001b[0m\n\u001b[1;32m    347\u001b[0m         \u001b[0;32mif\u001b[0m \u001b[0mhandle\u001b[0m \u001b[0;32mis\u001b[0m \u001b[0;32mNone\u001b[0m\u001b[0;34m:\u001b[0m\u001b[0;34m\u001b[0m\u001b[0;34m\u001b[0m\u001b[0m\n\u001b[0;32m--> 348\u001b[0;31m             \u001b[0mself\u001b[0m\u001b[0;34m.\u001b[0m\u001b[0m_handle\u001b[0m \u001b[0;34m=\u001b[0m \u001b[0m_dlopen\u001b[0m\u001b[0;34m(\u001b[0m\u001b[0mself\u001b[0m\u001b[0;34m.\u001b[0m\u001b[0m_name\u001b[0m\u001b[0;34m,\u001b[0m \u001b[0mmode\u001b[0m\u001b[0;34m)\u001b[0m\u001b[0;34m\u001b[0m\u001b[0;34m\u001b[0m\u001b[0m\n\u001b[0m\u001b[1;32m    349\u001b[0m         \u001b[0;32melse\u001b[0m\u001b[0;34m:\u001b[0m\u001b[0;34m\u001b[0m\u001b[0;34m\u001b[0m\u001b[0m\n",
      "\u001b[0;31mOSError\u001b[0m: dlopen(/Users/zhanibek/Google Drive/Graduate Courses/Spring 2020/CS 512 Advanved Machine Learning/Homework 1/Programming Part/AML-master/Assignment_1_Programming/code/lib_liblinear/python/../liblinear.so.3, 6): no suitable image found.  Did find:\n\t/Users/zhanibek/Google Drive/Graduate Courses/Spring 2020/CS 512 Advanved Machine Learning/Homework 1/Programming Part/AML-master/Assignment_1_Programming/code/lib_liblinear/python/../liblinear.so.3: unknown file type, first eight bytes: 0x7F 0x45 0x4C 0x46 0x02 0x01 0x01 0x00\n\t/Users/zhanibek/Google Drive/Graduate Courses/Spring 2020/CS 512 Advanved Machine Learning/Homework 1/Programming Part/AML-master/Assignment_1_Programming/code/lib_liblinear/liblinear.so.3: unknown file type, first eight bytes: 0x7F 0x45 0x4C 0x46 0x02 0x01 0x01 0x00",
      "\nDuring handling of the above exception, another exception occurred:\n",
      "\u001b[0;31mException\u001b[0m                                 Traceback (most recent call last)",
      "\u001b[0;32m<ipython-input-1-a4c1a160940f>\u001b[0m in \u001b[0;36m<module>\u001b[0;34m\u001b[0m\n\u001b[1;32m      4\u001b[0m \u001b[0;32mfrom\u001b[0m \u001b[0mpathlib\u001b[0m \u001b[0;32mimport\u001b[0m \u001b[0mPath\u001b[0m\u001b[0;34m\u001b[0m\u001b[0;34m\u001b[0m\u001b[0m\n\u001b[1;32m      5\u001b[0m \u001b[0;32mimport\u001b[0m \u001b[0mitertools\u001b[0m\u001b[0;34m\u001b[0m\u001b[0;34m\u001b[0m\u001b[0m\n\u001b[0;32m----> 6\u001b[0;31m \u001b[0;32mimport\u001b[0m \u001b[0mlib_liblinear\u001b[0m\u001b[0;34m.\u001b[0m\u001b[0mpython\u001b[0m\u001b[0;34m.\u001b[0m\u001b[0mliblinearutil\u001b[0m \u001b[0;32mas\u001b[0m \u001b[0mlbl\u001b[0m\u001b[0;34m\u001b[0m\u001b[0;34m\u001b[0m\u001b[0m\n\u001b[0m\u001b[1;32m      7\u001b[0m \u001b[0;32mimport\u001b[0m \u001b[0mmatplotlib\u001b[0m\u001b[0;34m.\u001b[0m\u001b[0mpyplot\u001b[0m \u001b[0;32mas\u001b[0m \u001b[0mplt\u001b[0m\u001b[0;34m\u001b[0m\u001b[0;34m\u001b[0m\u001b[0m\n\u001b[1;32m      8\u001b[0m \u001b[0;32mimport\u001b[0m \u001b[0mscipy\u001b[0m\u001b[0;34m.\u001b[0m\u001b[0moptimize\u001b[0m \u001b[0;32mas\u001b[0m \u001b[0mopt\u001b[0m\u001b[0;34m\u001b[0m\u001b[0;34m\u001b[0m\u001b[0m\n",
      "\u001b[0;32m~/Google Drive/Graduate Courses/Spring 2020/CS 512 Advanved Machine Learning/Homework 1/Programming Part/AML-master/Assignment_1_Programming/code/lib_liblinear/python/liblinearutil.py\u001b[0m in \u001b[0;36m<module>\u001b[0;34m\u001b[0m\n\u001b[1;32m      4\u001b[0m \u001b[0msys\u001b[0m\u001b[0;34m.\u001b[0m\u001b[0mpath\u001b[0m \u001b[0;34m=\u001b[0m \u001b[0;34m[\u001b[0m\u001b[0mos\u001b[0m\u001b[0;34m.\u001b[0m\u001b[0mpath\u001b[0m\u001b[0;34m.\u001b[0m\u001b[0mdirname\u001b[0m\u001b[0;34m(\u001b[0m\u001b[0mos\u001b[0m\u001b[0;34m.\u001b[0m\u001b[0mpath\u001b[0m\u001b[0;34m.\u001b[0m\u001b[0mabspath\u001b[0m\u001b[0;34m(\u001b[0m\u001b[0m__file__\u001b[0m\u001b[0;34m)\u001b[0m\u001b[0;34m)\u001b[0m\u001b[0;34m]\u001b[0m \u001b[0;34m+\u001b[0m \u001b[0msys\u001b[0m\u001b[0;34m.\u001b[0m\u001b[0mpath\u001b[0m\u001b[0;34m\u001b[0m\u001b[0;34m\u001b[0m\u001b[0m\n\u001b[1;32m      5\u001b[0m \u001b[0mprint\u001b[0m\u001b[0;34m(\u001b[0m\u001b[0msys\u001b[0m\u001b[0;34m.\u001b[0m\u001b[0mpath\u001b[0m\u001b[0;34m)\u001b[0m\u001b[0;34m\u001b[0m\u001b[0;34m\u001b[0m\u001b[0m\n\u001b[0;32m----> 6\u001b[0;31m \u001b[0;32mfrom\u001b[0m \u001b[0mliblinear\u001b[0m \u001b[0;32mimport\u001b[0m \u001b[0;34m*\u001b[0m\u001b[0;34m\u001b[0m\u001b[0;34m\u001b[0m\u001b[0m\n\u001b[0m\u001b[1;32m      7\u001b[0m \u001b[0;32mfrom\u001b[0m \u001b[0mliblinear\u001b[0m \u001b[0;32mimport\u001b[0m \u001b[0m__all__\u001b[0m \u001b[0;32mas\u001b[0m \u001b[0mliblinear_all\u001b[0m\u001b[0;34m\u001b[0m\u001b[0;34m\u001b[0m\u001b[0m\n\u001b[1;32m      8\u001b[0m \u001b[0;32mfrom\u001b[0m \u001b[0mliblinear\u001b[0m \u001b[0;32mimport\u001b[0m \u001b[0mscipy\u001b[0m\u001b[0;34m,\u001b[0m \u001b[0msparse\u001b[0m\u001b[0;34m\u001b[0m\u001b[0;34m\u001b[0m\u001b[0m\n",
      "\u001b[0;32m~/Google Drive/Graduate Courses/Spring 2020/CS 512 Advanved Machine Learning/Homework 1/Programming Part/AML-master/Assignment_1_Programming/code/lib_liblinear/python/liblinear.py\u001b[0m in \u001b[0;36m<module>\u001b[0;34m\u001b[0m\n\u001b[1;32m     36\u001b[0m                 \u001b[0mliblinear\u001b[0m \u001b[0;34m=\u001b[0m \u001b[0mCDLL\u001b[0m\u001b[0;34m(\u001b[0m\u001b[0mfind_library\u001b[0m\u001b[0;34m(\u001b[0m\u001b[0;34m'liblinear'\u001b[0m\u001b[0;34m)\u001b[0m\u001b[0;34m)\u001b[0m\u001b[0;34m\u001b[0m\u001b[0;34m\u001b[0m\u001b[0m\n\u001b[1;32m     37\u001b[0m         \u001b[0;32melse\u001b[0m\u001b[0;34m:\u001b[0m\u001b[0;34m\u001b[0m\u001b[0;34m\u001b[0m\u001b[0m\n\u001b[0;32m---> 38\u001b[0;31m                 \u001b[0;32mraise\u001b[0m \u001b[0mException\u001b[0m\u001b[0;34m(\u001b[0m\u001b[0;34m'LIBLINEAR library not found.'\u001b[0m\u001b[0;34m)\u001b[0m\u001b[0;34m\u001b[0m\u001b[0;34m\u001b[0m\u001b[0m\n\u001b[0m\u001b[1;32m     39\u001b[0m \u001b[0;34m\u001b[0m\u001b[0m\n\u001b[1;32m     40\u001b[0m \u001b[0mL2R_LR\u001b[0m \u001b[0;34m=\u001b[0m \u001b[0;36m0\u001b[0m\u001b[0;34m\u001b[0m\u001b[0;34m\u001b[0m\u001b[0m\n",
      "\u001b[0;31mException\u001b[0m: LIBLINEAR library not found."
     ]
    }
   ],
   "source": [
    "import numpy as np\n",
    "import sys\n",
    "import os\n",
    "from pathlib import Path\n",
    "import itertools\n",
    "import lib_liblinear.python.liblinearutil as lbl\n",
    "import matplotlib.pyplot as plt\n",
    "import scipy.optimize as opt\n",
    "from PIL import Image \n",
    "dir_path = Path.cwd()\n",
    "\n",
    "print(dir_path)\n",
    "sys.path.insert(0, dir_path)"
   ]
  },
  {
   "cell_type": "markdown",
   "metadata": {},
   "source": [
    "# Part 1"
   ]
  },
  {
   "cell_type": "code",
   "execution_count": 2,
   "metadata": {},
   "outputs": [
    {
     "name": "stdout",
     "output_type": "stream",
     "text": [
      "Done reading! Sizes are X: (12800,), W:(3328,),T: (676,). Total: 16804\n",
      "Done reshaping! Sizes now are X: (100, 128), W:(128, 26),T: (26, 26)\n"
     ]
    }
   ],
   "source": [
    "dataPath = os.path.join(dir_path, '../data')\n",
    "resPath = os.path.join(dir_path, 'results')\n",
    "letters = 'abcdefghijklmnopqrstuvwxyz'\n",
    "# Load decode Input\n",
    "decInputFile = os.path.join(dataPath, 'decode_input.txt')\n",
    "with open(decInputFile, 'r') as f:\n",
    "    inData = f.read().splitlines()\n",
    "    inX = np.asarray(inData[0:12800], dtype = np.float)     # input is 100 letters @ 128 = 12800, or 0-12799. NOTE: Recall Python slice is [).\n",
    "    inW = np.asarray(inData[12800:16128], dtype = np.float) # wieths are 26 * 128 = 3328, or 12800-16127\n",
    "    inT = np.asarray(inData[16128:], dtype = np.float)      # The remaing are the transition probs.\n",
    "print(\"Done reading! Sizes are X: {}, W:{},T: {}. Total: {}\".format(inX.shape, inW.shape, inT.shape, inX.size+inW.size+inT.size))\n",
    "\n",
    "# Reshape arrays\n",
    "# Reshape T to 26x26\n",
    "inT = np.reshape(inT,(26,26)) \n",
    "inX = np.reshape(inX, (-1,128))\n",
    "inW = np.reshape(inW, (128,-1))\n",
    "featSize = 128\n",
    "numOfLabels = 26\n",
    "print(\"Done reshaping! Sizes now are X: {}, W:{},T: {}\".format(inX.shape, inW.shape, inT.shape))"
   ]
  },
  {
   "cell_type": "markdown",
   "metadata": {},
   "source": [
    "### Part 1.c Decoder Implementation"
   ]
  },
  {
   "cell_type": "code",
   "execution_count": 4,
   "metadata": {},
   "outputs": [
    {
     "name": "stdout",
     "output_type": "stream",
     "text": [
      "Input shapes: sequence: (100, 128), weights: (128, 26), T matrix:(26, 26)\n",
      "8.463050951496649e-56\n"
     ]
    }
   ],
   "source": [
    "# Max-Prod algorithm!\n",
    "def crf_decode_max_prod(seq, w, t):\n",
    "    \"\"\" DESCRIPTION: Max-Prod algorithm. Not used for this assignment. Use max-sum instead!\n",
    "    \"\"\"\n",
    "    # Init\n",
    "    seqLen  = seq.shape[0]\n",
    "    dataLen = w.shape[1]\n",
    "    cMat    = np.zeros((seqLen, dataLen))\n",
    "    bMat    = np.matmul(seq, w) # this gives the probability of observing each i standalone\n",
    "    maxIdx  = np.zeros((seqLen, dataLen), dtype = np.int)\n",
    "    decSeq  = []\n",
    "    maxObj  = 0\n",
    "    ci = np.zeros((26,26))\n",
    "    \n",
    "    # Get step 0 estimates\n",
    "    step0    = np.matmul(seq[0,:], w)\n",
    "    c1 = np.multiply(step0,t)      # the previous node potential x edje potenital for all i->j pairs\n",
    "    maxIdx[0,:] = np.argmax(c1, axis = 0) #1x26 the max elem indexes\n",
    "    c1 = c1[maxIdx[0,:],np.arange(c1.shape[1])] #1x26 select the max element, as indexed by maxIdx, for every column\n",
    "    cMat[0,:] = c1\n",
    "    print(\"Input shapes: sequence: {}, weights: {}, T matrix:{}\".format(seq.shape,w.shape,t.shape))\n",
    "    \n",
    "    # Perform a pass over steps 1-99 or 2-100 in 1-index notation!\n",
    "    for i in range(1,seqLen):\n",
    "        fi  = bMat[i,:]              # get likelihood of i observation being any letter as standalone \n",
    "        cYi = cMat[i-1,:]            # i-1 step's potential msg to this node i\n",
    "        cYj = np.multiply(fi, t)     # mul the likelihood of each letter with all transition probs.\n",
    "        maxIdx[i,:] = np.argmax(cYj, axis = 0) #1x26 the max elem indexes\n",
    "        cYj = cYj[maxIdx[i,:],np.arange(cYj.shape[1])] #1x26 select the max element, as indexed by maxIdx, for every column\n",
    "        cYj = np.multiply(cYj, cYi)  # multiply current cYj = g_yj->yi* fj with pervious node's(i-1) msgs to yield the msg node i will wend to i+1\n",
    "        cMat[i,:] = cYj              # store this node's msg, in order to send it to i+1 on next step!\n",
    "        #if i == 1:\n",
    "        #    print(cYj, cYj.shape, fi.shape)\n",
    "    maxObj = np.max(cYj)             # max objective value is the maximum of the lasp step's messages or potentials Y_end \n",
    "    # Backward pass.\n",
    "    # At each step, the element e at slot i is the label that most likely lead to the lable represented as i.\n",
    "    # So at i.e if 95,5 = 11, then that means that the most probable letter that leads to f(idx 5) if letter 11 or l (label 11). All indexing is 0 based.\n",
    "    decSeq     = np.zeros((seqLen,1), dtype = np.int)\n",
    "    lastMax    = np.argmax(maxIdx[-1,:]) # get the most probable last element. use this to recurse and find the most prob sequence\n",
    "    decSeq[-1] = lastMax\n",
    "    for i in range(seqLen-2,-1,-1):\n",
    "        #print(\"i is \", i, \"decSeq of \", i+1, \"is\", decSeq[i+1])\n",
    "        curMax = maxIdx[i,decSeq[i+1]]\n",
    "        decSeq[i] = curMax\n",
    "        \n",
    "    return decSeq, maxObj\n",
    "    \n",
    "decSeq,maxObj = crf_decode_max_prod(inX, inW, inT)\n",
    "print(maxObj)"
   ]
  },
  {
   "cell_type": "code",
   "execution_count": 7,
   "metadata": {},
   "outputs": [
    {
     "name": "stdout",
     "output_type": "stream",
     "text": [
      "206.68391391587812\n"
     ]
    }
   ],
   "source": [
    "# Max-Sum algorithm!\n",
    "def crf_decode(seq, w, t):\n",
    "    \"\"\" DESCRIPTION: Using max-sum algorithm to decode. THis function will use the forward pass to compute\n",
    "                     the most probable last letter, at place m for a seq of length m. Then using that knowledge\n",
    "                     it will go backwards at m-1 extracting the character that was most likely to lead to the most probable \n",
    "                     character at place m. It will recurcively continue until we have a candidate at place m=0 and return\n",
    "                     the labels that we are most confident they match the input.\n",
    "        ARGUMENTS: seq(ndarray): a sequqnce that contains aoiur input data.\n",
    "    \"\"\"\n",
    "    # Init\n",
    "    seqLen  = seq.shape[0]\n",
    "    dataLen = w.shape[1]\n",
    "    cMat    = np.zeros((seqLen, dataLen))\n",
    "    bMat    = np.matmul(seq, w) # this gives the probability of observing each i standalone\n",
    "    maxIdx  = np.zeros((seqLen, dataLen), dtype = np.int)\n",
    "    decSeq  = []\n",
    "    maxObj  = 0\n",
    "    ci = np.zeros((26,26))\n",
    "    \n",
    "    # Get step 0 estimates\n",
    "    step0    = np.matmul(seq[0,:], w)\n",
    "    c1 = np.multiply(step0,t)      # the previous node potential x edje potenital for all i->j pairs\n",
    "    maxIdx[0,:] = np.argmax(c1, axis = 0) #1x26 the max elem indexes\n",
    "    c1 = c1[maxIdx[0,:],np.arange(c1.shape[1])] #1x26 select the max element, as indexed by maxIdx, for every column\n",
    "    cMat[0,:] = 0\n",
    "    #print(\"Input shapes: sequence: {}, weights: {}, T matrix:{}\".format(seq.shape,w.shape,t.shape))\n",
    "    \n",
    "    # Perform a pass over steps 1-99 or 2-100 in 1-index notation!\n",
    "    for i in range(1,seqLen):\n",
    "        fi  = bMat[i-1,:].reshape(-1,1)              # get likelihood of i observation being any letter as standalone \n",
    "        cYi = cMat[i-1,:].reshape(-1,1)            # i-1 step's potential msg to this node i\n",
    "        cYj = fi + t + cYi     # mul the likelihood of each letter with all transition probs.\n",
    "        #if i ==1:\n",
    "            #print(cYi.shape,cYj.shape)\n",
    "        maxIdx[i,:] = np.argmax(cYj, axis = 0) #1x26 the max elem indexes\n",
    "        cYj = cYj[maxIdx[i,:],np.arange(cYj.shape[1])] #1x26 select the max element, as indexed by maxIdx, for every column\n",
    "        #cYj = np.multiply(cYj, cYi)  # multiply current cYj = g_yj->yi* fj with pervious node's(i-1) msgs to yield the msg node i will wend to i+1\n",
    "        cMat[i,:] = cYj              # store this node's msg, in order to send it to i+1 on next step!\n",
    "        #if i == 1:\n",
    "        #    print(cYj, cYj.shape, fi.shape)\n",
    "    maxObj = np.max(cYj)             # max objective value is the maximum of the lasp step's messages or potentials Y_end \n",
    "    # Backward pass.\n",
    "    # At each step, the element e at slot i is the label that most likely lead to the lable represented as i.\n",
    "    # So at i.e if 95,5 = 11, then that means that the most probable letter that leads to f(idx 5) if letter 11 or l (label 11). All indexing is 0 based.\n",
    "    decSeq     = np.zeros((seqLen,1), dtype = np.int)\n",
    "    lastMax    = np.argmax(maxIdx[-1,:]) # get the most probable last element. use this to recurse and find the most prob sequence\n",
    "    decSeq[-1] = lastMax\n",
    "    for i in range(seqLen-2,-1,-1):\n",
    "        #print(\"i is \", i, \"decSeq of \", i+1, \"is\", decSeq[i+1])\n",
    "        curMax = maxIdx[i,decSeq[i+1]]\n",
    "        decSeq[i] = curMax\n",
    "    # Remember that python indexes from 0. Labels are 1-26 so we must add 1 to compensate\n",
    "    return decSeq+1, maxObj\n",
    "    \n",
    "decSeq,maxObj = crf_decode(inX, inW, inT)\n",
    "print(maxObj)"
   ]
  },
  {
   "cell_type": "code",
   "execution_count": 8,
   "metadata": {},
   "outputs": [],
   "source": [
    "def write_dec_seq_to_file(seq, resPath, label='decode_output.txt'):\n",
    "    \"\"\" DESCRIPTION: Write the decoded results to file\n",
    "    \"\"\"\n",
    "    # Create results dir if ti does not exists (Python3.2+)\n",
    "    #resPath = os.path.join(dir_path, 'results')\n",
    "    os.makedirs(resPath, exist_ok=True) \n",
    "    # Form file name and write output\n",
    "    resFile = os.path.join(resPath, label)\n",
    "    np.savetxt(resFile, seq.astype(int),fmt='%d')\n",
    "# ------------------------------------------------------------------    \n",
    "write_dec_seq_to_file(decSeq, os.path.join(dir_path, 'results'))"
   ]
  },
  {
   "cell_type": "markdown",
   "metadata": {},
   "source": [
    "# Part 2\n",
    "## Towards Gradients: Marginals Computation"
   ]
  },
  {
   "cell_type": "markdown",
   "metadata": {},
   "source": [
    "#### Load Data for all formats"
   ]
  },
  {
   "cell_type": "code",
   "execution_count": 16,
   "metadata": {},
   "outputs": [],
   "source": [
    "# Part 3 Benchamrking with SVM!\n",
    "modelLabels = ['CRF', 'SVM-HMM', 'SVM-MC']\n",
    "# Define where svm_hmm lib and executables are\n",
    "libPath = os.path.join(dir_path,'svm_hmm_linux64')\n",
    "learnerPath = os.path.join(libPath, 'svm_hmm_learn')\n",
    "testerPath  = os.path.join(libPath, 'svm_hmm_classify')\n",
    "# data for the hmm svm\n",
    "svmTrainData = os.path.join(dataPath,'train_struct.txt')\n",
    "svmTestData = os.path.join(dataPath,'test_struct.txt')\n",
    "# liblinear svm data\n",
    "libSVMTrainData = os.path.join(dataPath, 'liblinear_svm_train.txt')\n",
    "libSVMTestData  = os.path.join(dataPath, 'liblinear_svm_test.txt')\n",
    "# make a file of true classes if they dont exists, without hte other stuff\n",
    "sanTrainTruthFile = os.path.join(dataPath, 'sanitizedTrainTruth.txt')\n",
    "sanTestTruthFile = os.path.join(dataPath, 'sanitizedTestTruth.txt')\n",
    "# Load the data in CRF readable format\n",
    "crfTrainFile = os.path.join(dataPath, 'train.txt')\n",
    "crfTestFile  = os.path.join(dataPath, 'test.txt')\n",
    "\n",
    "def load_crf_data(trainFile, testFile):\n",
    "    \"\"\" DESCRIPTION: This function will read the files and return the data as numpy arrays, without the additional supporting information\n",
    "                     which in the provided files arethe first 5 characters describing word indx, letter indx end letter indicator etc.\n",
    "                     Refer to fields_crf.txt for more info on those\n",
    "        RETURNS: ndarrays: The numpy arrays containing just the data. Shape is  numOfLetters x 128\n",
    "    \"\"\"\n",
    "    with open(trainFile,'r') as tr, open(testFile,'r') as ts:\n",
    "        trainD = np.asarray([[int(y) for y in x.split(' ')[5:]] for x in tr.read().splitlines()])\n",
    "        testD  = np.asarray([[int(y) for y in x.split(' ')[5:]] for x in ts.read().splitlines()])\n",
    "        \n",
    "        #print(len(trainD[0]),len(testD[0]))\n",
    "    return trainD, testD\n",
    "#-------------------------------------------------------------------\n",
    "trainD, testD = load_crf_data(crfTrainFile, crfTestFile)\n",
    "\n",
    "def get_sanitized_labels(inFile, sanTruthFile = None):\n",
    "    # Load the true classes and word-letter indexex (2nd column of file)\n",
    "    # Get just the true labels and word indexes for all letters without features and the rest\n",
    "    if  not os.path.exists(sanTruthFile) or sanTruthFile is None:\n",
    "        with open(inFile,'r') as o, open(sanTruthFile,'w') as s:\n",
    "            d =[x.split(' ') for x in o.readlines()]   # split file into a list of lists of tokens\n",
    "            sanLabel =[x[0] for x in d]                # get all labels. Its the first token of each line\n",
    "            sanWIdx = [x[1].split(':')[1] for x in d]  # get all word indexes. It is the number after the : of the second token.\n",
    "            # using list comprehension + zip() \n",
    "            # interlist element concatenation \n",
    "            sanData = [' '.join((i,j)) for i, j in zip(sanLabel, sanWIdx)]  \n",
    "            print(sanData[0:30])\n",
    "            s.write(\"\\n\".join(sanData))\n",
    "            sanData = np.asarray(sanData.split(), dtype = np.int)\n",
    "            print(sanData[0:30])\n",
    "    else:\n",
    "        sanData = np.loadtxt(sanTruthFile, dtype = np.int, delimiter = ' ')\n",
    "    return sanData\n",
    "#-------------------------------------------------------------------\n",
    "sanTrainLabels = get_sanitized_labels(svmTrainData, sanTrainTruthFile)        \n",
    "sanTestLabels = get_sanitized_labels(svmTestData, sanTestTruthFile)        \n",
    "#gTruth = np.asarray([x.split(' ')[0] for x in open(sanTruthFile).readlines()]) # keep in mind that readlines retunrs the \\n character\n",
    "\n",
    "#-------------------------------------------------------------------\n",
    "# transform data strcuture to LIBLINEAR format. Essentially we need to only remove the qid:x part\n",
    "if not  os.path.exists(libSVMTestData):\n",
    "    with open(svmTestData,'r') as i, open(libSVMTestData,'w') as o:\n",
    "        d =[x.split(' ') for x in i.readlines()]   # split file into a list of lists of tokens\n",
    "        for row in d:\n",
    "            del row[1]\n",
    "        #print(d[0:20])\n",
    "        d = [' '.join(row[0:-1]) for row in d]\n",
    "        o.write(\"\\n\".join(d))\n",
    "        \n",
    "if not os.path.exists(libSVMTrainData):\n",
    "    with open(svmTrainData,'r') as i, open(libSVMTrainData,'w') as o:\n",
    "        d =[x.split(' ') for x in i.readlines()]   # split file into a list of lists of tokens\n",
    "        for row in d:\n",
    "            del row[1]\n",
    "        d = [' '.join(row[0:-1]) for row in d]\n",
    "        #print(d[0:20])\n",
    "        o.write(\"\\n\".join(d))    \n",
    "d = 0\n",
    "# --------------------------------------------------------------\n",
    "\n",
    "def extract_word_idxs(inData):\n",
    "    \"\"\" DESCRIPTION: Expects a file that  has a per-line word idx. That is each row is the word idx the letter belongs to.\n",
    "        ARGUMENTS: inData (ndarray): A numpy array containing the letter-word idxs. Each line is the letter idx in data and the value is\n",
    "                                     the word it belongs to. So line 0, with value = 1 means letter 0 belongs to word 1.\n",
    "        RETURNS: wordIdxs(ndarray): A numpy arra 1D, that holds at each location the end limit of that word. So at location i=2, the bvalue v=17\n",
    "                                    means that word 2 ends at location 17. So when indexing with python's [) ranges, we just use word2 = data[endWord1, 17]\n",
    "    \"\"\"\n",
    "    wordIdxs = np.zeros(inData[-1], dtype=np.int)\n",
    "    curIdx = 1\n",
    "    for i, runIdx in enumerate(inData):\n",
    "        if curIdx != runIdx:\n",
    "            wordIdxs[curIdx] = i\n",
    "            curIdx = runIdx\n",
    "    #print(wordIdxs.shape, wordIdxs[-20:]) \n",
    "    return wordIdxs\n",
    "# ------------------------------------------------------------------\n",
    "#\n",
    "def append_label_to_crf_data(trainD, testD, trainL, testL):\n",
    "    \"\"\" DESCRIPTION: This function is needed to append letter and wordwise labels to raw data. optimize.py file provided accesses data in a different \n",
    "                     manner, passing only one table for data input, assuming the labels are carried along. As such, we need to concat the 2 matrices.\n",
    "    \n",
    "    \"\"\"\n",
    "    labTrainD = np.append(trainL, trainD, axis = 1) \n",
    "    labTestD = np.append(testL, testD, axis = 1) \n",
    "    return labTrainD, labTestD\n",
    "\n",
    "lblTrainD, lblTestD = append_label_to_crf_data(trainD, testD, sanTrainLabels, sanTestLabels)\n",
    "#Extract the word Indexes.\n",
    "wordIdxs = extract_word_idxs(sanTrainLabels[:,1])\n",
    "wordTestIdxs = extract_word_idxs(sanTestLabels[:,1])"
   ]
  },
  {
   "cell_type": "code",
   "execution_count": 10,
   "metadata": {},
   "outputs": [
    {
     "data": {
      "text/plain": [
       "(128, 26)"
      ]
     },
     "execution_count": 10,
     "metadata": {},
     "output_type": "execute_result"
    }
   ],
   "source": [
    "inW.shape"
   ]
  },
  {
   "cell_type": "markdown",
   "metadata": {},
   "source": [
    "## Compute log Marginals and log p(Y|X)"
   ]
  },
  {
   "cell_type": "code",
   "execution_count": 17,
   "metadata": {},
   "outputs": [],
   "source": [
    "def compute_log_dist(seq, w, t, labels= None):\n",
    "    \"\"\" DESCRIPTION: THis function will compute the log marginals Pyi and Pyy.\n",
    "        ARGUMENTS: seq(ndarray; DIMS: seqLen x featLen): Input sequence to compute the distribution on. All \n",
    "                   members have to have same length.  \n",
    "                   w(ndarray DIMS: featLenx numOfLabels) Input node weights matrix.\n",
    "                   t(ndarray DIMS: numOflabelsxnumOflabels): Input edge weights (Transition matrix.)\n",
    "        RTETURNS: dist (ndarra; DIMS: seqLenx labelLen) The marginal distribution of each label as each seq spot s.\n",
    "                  distT (ndarray): The marginal of the edge probabilities. [DIMS: seqlen x numOfLabels x numOfLabels]\n",
    "                  Z (scalar): Partition function's result, computed on this sequence length.\n",
    "    \"\"\"\n",
    "    dist = []\n",
    "    # Init\n",
    "    seqLen  = seq.shape[0]\n",
    "    dataLen = w.shape[1] # feature length\n",
    "    fMat    = np.zeros((seqLen, dataLen))\n",
    "    oMat    = np.matmul(seq, w) # this gives the probability of observing each i standalone\n",
    "    maxIdx  = np.zeros((seqLen, dataLen), dtype = np.int)\n",
    "    decSeq  = []\n",
    "    maxObj  = 0\n",
    "    ci = np.zeros((26,26))\n",
    "    # ---------------------------\n",
    "    # Compute forward messages (f potentials) \n",
    "    # Get step 0 estimates\n",
    "    step0    = np.matmul(seq[0,:], w)\n",
    "    c1 = np.multiply(step0,t)      # the previous node potential x edje potenital for all i->j pairs\n",
    "    c1 = c1[maxIdx[0,:],np.arange(c1.shape[1])] #1x26 select the max element, as indexed by maxIdx, for every column\n",
    "    #cMat[0,:] = c1\n",
    "    fMat[0,:] = 0\n",
    "    #print(\"Input shapes: sequence: {}, weights: {}, T matrix:{}\".format(seq.shape,w.shape,t.shape))\n",
    "    \n",
    "    # Perform a pass over steps 1-99 or 2-100 in 1-index notation!\n",
    "    # Recall that bmat is m x 26, each row a letter-wsie confidence vector. Similarly for cMat which is message of node i to i+1.\n",
    "    for i in range(1,seqLen):\n",
    "        fPrev  = oMat[i-1,:].reshape(-1,1)   # get likelihood of i observation being any letter as standalone,as a column vector\n",
    "        fYPrev = fMat[i-1,:].reshape(-1,1)   # i-1 step's potential msg to this node i. f_y-1 in the assignment.\n",
    "        cYi = np.exp(fPrev.transpose() + t + fYPrev.transpose())             # Turn weighted features into potentials.\n",
    "        cYi = np.sum(cYi, axis =0) # sum the likelihood of each letter with all transition probs.\n",
    "        #if i == 1:\n",
    "            #print(cYi.shape)\n",
    "            #pint(fPrev.shape,cYi, fPrev, t)\n",
    "        #cYi = np.exp(cYi + fYPrev)             # Turn weighted features into potentials.\n",
    "        cYi = np.log(cYi)\n",
    "        #print(fPrev.shape,cYi.shape, cYPrev.shape)\n",
    "        fMat[i,:] = cYi              # store this node's msg, in order to send it to i+1 on next step!\n",
    "        \n",
    "    \n",
    "    # Backward pass.\n",
    "    # ---------------------------\n",
    "    bMat    = np.zeros((seqLen, dataLen)) # hold all the backward messages for the sequence, for each position s.\n",
    "    # Compute b_i's\n",
    "    bMat[seqLen-1,:] = 0\n",
    "    for i in range(seqLen-2, -1,-1):\n",
    "        fNext  = oMat[i+1,:].reshape(-1,1) # get likelihood of i+1 observation being any letter as standalone \n",
    "        bYNext = bMat[i+1,:].reshape(-1,1) # i+1 step's potential msg to this node i. f_y-1 in the assignment.\n",
    "        cYi = np.exp(fNext + t + bYNext) # sum the likelihood of each next letter letter i+1, along with the trans probs for each letter i in this step \n",
    "        cYi = np.sum(cYi, axis=1)        # Turn weighted features into potentials.\n",
    "        cYi = np.log(cYi)\n",
    "        bMat[i,:] = cYi              # store this node's msg, in order to send it to i+1 on next step!\n",
    "        \n",
    "    # Compute P(yi) for all sequence spots s and all letters l (if |Y| = l, that is the cardinality of labels is l.)    \n",
    "    # -------------------------\n",
    "    dist = fMat + bMat + oMat\n",
    "    #print(np.sum(np.exp(oMat[-1,:] + fMat[-1,:])))\n",
    "    #print(np.exp(oMat[-1,:] + fMat[-1,:]))\n",
    "    Zf = np.log(np.sum(np.exp(oMat[-1,:] + fMat[-1,:])))\n",
    "    Zb = np.log(np.sum(np.exp(oMat[0,:] + bMat[0,:])))\n",
    "    # Sanity check. This 2 should be the same. THese are Z.\n",
    "    #print(Zf,Zb)\n",
    "    logZ = Zf\n",
    "    \n",
    "    # Locally normalize distribution computation\n",
    "    dist /= np.sum(dist, axis = 1, keepdims =1)    \n",
    "    \n",
    "    # Pyy transition comuptation\n",
    "    # --------------------------\n",
    "    distT = np.zeros((seqLen-1,t.shape[0], t.shape[1]),dtype=np.float)\n",
    "    pYY = np.zeros((t.shape))\n",
    "    for s in range(0, seqLen-1):\n",
    "        #print(np.tile(fMat[s,:], (t.shape[0],1)).shape)\n",
    "        termB = np.tile(oMat[s,:], (t.shape[0],1)) + np.tile(oMat[s+1,:].reshape(-1,1), (1,t.shape[0])) + t\n",
    "        pYY = np.tile(fMat[s,:], (t.shape[0],1)) + np.tile(bMat[s+1,:].reshape(-1,1), (1,t.shape[0])) + termB\n",
    "        distT[s,:,:] = pYY / np.sum(pYY, axis = 1, keepdims =1)\n",
    "        #if s ==0:\n",
    "            #print(np.sum(pYY, axis = 1, keepdims =1))\n",
    "            #print(pYY/ np.sum(pYY, axis = 1, keepdims =1))\n",
    "            #print(distT[s].sum(axis=1)) # this should be 1's as each row should be a valid distribution\n",
    "            \n",
    "    # Compute lg p(y|X)\n",
    "    # --------------------------\n",
    "    if labels is not None:\n",
    "        logPy_X = 0\n",
    "        # Select the column holding the confidence of the true label for each datum (row)\n",
    "        # Remember, labels are indexed 1-26, python indexes 0-25; hence -1 is required\n",
    "        #print(oMat.shape, labels.shape)\n",
    "        wSum, tSum = np.sum(oMat[np.arange(len(labels)),labels-1]), np.sum(inT[labels[0:-1]-1, labels[1:]-1]) \n",
    "        res = (wSum+tSum) - logZ\n",
    "        #print(res)\n",
    "        #print(inT[labels[0:-1]-1, labels[1:]-1])\n",
    "        \n",
    "    return dist, distT, logZ, logPy_X\n",
    "\n",
    "# Try for just one word, sanity run.\n",
    "wordStart = 0\n",
    "wordEnd = wordIdxs[1]\n",
    "logPY, logPYY, Z, logPy_X = compute_log_dist(trainD[wordStart:wordEnd,:], inW, inT, labels = sanTrainLabels[wordStart:wordEnd,0])"
   ]
  },
  {
   "cell_type": "markdown",
   "metadata": {},
   "source": [
    "## Compute Word  Gradients for Wy and Tyi,yi+1"
   ]
  },
  {
   "cell_type": "code",
   "execution_count": 14,
   "metadata": {},
   "outputs": [],
   "source": [
    "# --------------------------------------------------------------\n",
    "def compute_word_grads(inSeq, labels, pY, pYY):\n",
    "    gradW = np.zeros((pY.shape[1], inSeq.shape[1])) # store grad of w as column:\n",
    "    gradY = np.zeros((pY.shape[1], pY.shape[1])) # square matrix of symbol-to-symbol transitions\n",
    "    #print(\"Input sizes for grad compute-> data:{}, pY:{}, pYY:{}\".format(seq.shape, pY.shape, pYY.shape))\n",
    "    #print(pY.sum(axis=1))\n",
    "    # Apply the eq gradWs = SUM_s {I[ys=y]- p(y|x)}xs \n",
    "    # So for each label, we find its contribution and then sum that label's controibution over all image\n",
    "    # So if label1 = a, then the contribution of x1 is contrib1_a, if labels2 = b we have contri2_a. To find the \n",
    "    # total grad for a we sum all the constribs fow a: contrib_s_a, where s runs from 0: sequence length!\n",
    "    for i in range(0, pY.shape[1]):\n",
    "        diff = ((labels == (i+1)).astype(int) - pY[:,i])  # Indicator func - p(y|X)\n",
    "        g = np.multiply(diff.reshape(inSeq.shape[0],1),inSeq)            # the above * xs (that is all data points in the sequence. We get a seqLenx128 matrix) \n",
    "        #if i == 11:  # Sanity print\n",
    "        #    print(g.shape)\n",
    "        #    print(labels[1])\n",
    "        #    print(inSeq[1,:])\n",
    "        #    print(g[1,:])\n",
    "        #    print(diff)\n",
    "        gradW[i] = np.sum(g, axis = 0) # accumulate grad on pixel positions over all sequence positions i. DIMS: 1x128 for each label\n",
    "     \n",
    "    # Grad T Computation\n",
    "    # ----------------------------\n",
    "    # Compute Indicator function I. It will be seqLen x 26x26. It has 1 in s,i,j if character at s,s+1 = i,j\n",
    "    # Dims = seqLen-1x26x26\n",
    "    indFunc = np.zeros((pYY.shape[0], pYY.shape[1], pYY.shape[2]))\n",
    "    for s in range(inSeq.shape[0]-1):\n",
    "        indFunc[s, labels[s]-1, labels[s+1]-1] = 1 # the -1 here is needed as labels are from 1-26 but T matrix is 26x26 so indexed as 0:25x:25\n",
    "    # Actual computation    \n",
    "    #for i in range(0, pY.shape[1]):\n",
    "    #    for j in range(0, pY.shape[1]):\n",
    "    #print(pYY[0])\n",
    "    #print(indFunc - pYY)\n",
    "    gradT = np.sum(indFunc - pYY,axis=0)\n",
    "    #print(gradT.shape)        \n",
    "    return gradW, gradT\n",
    "# ----------------------------------------------------------------\n",
    "# 1 word sanity run\n",
    "gradW, gradY = compute_word_grads(trainD[wordStart:wordEnd],sanTrainLabels[wordStart:wordEnd,0], logPY, logPYY)\n",
    "#scipy.optimize.check_grad()"
   ]
  },
  {
   "cell_type": "markdown",
   "metadata": {},
   "source": [
    "## Part 2.a: Compute Dataset Gradients"
   ]
  },
  {
   "cell_type": "code",
   "execution_count": 18,
   "metadata": {},
   "outputs": [
    {
     "name": "stdout",
     "output_type": "stream",
     "text": [
      "Computting average gradients for file B:\\Workspaces\\AML\\AML\\Assignment_1_Programming\\code\\../data\\train.txt. Data size: (25953, 128)\n",
      "Computed Grads up to word: 0\n",
      "Computed Grads up to word: 500\n",
      "Computed Grads up to word: 1000\n",
      "Computed Grads up to word: 1500\n",
      "Computed Grads up to word: 2000\n",
      "Computed Grads up to word: 2500\n",
      "Computed Grads up to word: 3000\n"
     ]
    }
   ],
   "source": [
    "def compute_log_py(seq, w,t,logZ, labels):\n",
    "    \"\"\" DESCRIPTION: Compute log p(y|X) for a seq given the labels, node and edge weights. This is a standalone version\n",
    "                     of the code segment found in function compute_log_dist. It can be called for any sample if we already\n",
    "                     have computed logZ. In the aforementioned function we already have computed observation matrix oMat\n",
    "                     which is X dotProd W, so it was handy to use it to compute log P(y|X) in place; here we need to re\n",
    "                     compute oMat. NOTE: Not currently used.\n",
    "    \"\"\"\n",
    "    logPy_X = 0\n",
    "    oMat = np.matmul(seq,w)\n",
    "    # Select the column that is the confidence result for the specifc, known true laabel only. Do this for all rows of seq (each datum)\n",
    "    wSum, tSum = np.sum(oMat[np.arange(len(labels)),labels-1]), np.sum(t[labels[0:-1]-1, labels[1:]-1])\n",
    "    return (wSum+tSum) - logZ\n",
    "# -----------------------------------------------------------------------------------\n",
    "def write_grads_to_file(gradW, gradT, fPath, label='gradient.txt'):\n",
    "    \n",
    "    os.makedirs(fPath, exist_ok=True) \n",
    "    filePath = os.path.join(fPath, label)\n",
    "    try:\n",
    "        with open(filePath,'w') as f:\n",
    "            np.savetxt(f,gradW.reshape(-1,1))  # gradW is of shape 26x128: labels x features\n",
    "            np.savetxt(f,gradT.reshape(-1,1))  # gradT is of shape 26x26   labels x labels\n",
    "        return 1\n",
    "    except:\n",
    "        print(\"Failed to write gradients to file: \"+ filePath)\n",
    "        return 0\n",
    "        \n",
    "# -----------------------------------------------------------------------------------\n",
    "def compute_dataset_stats_n_grads(inData, inW, inT, inWordIdxs = None, filePath = None, label = 'gradient.txt', verboseInter= None):\n",
    "    # Compute Avrage Gradient and log P(y|X)\n",
    "    wordEnd, sumLogPy_X = 0,0,\n",
    "    numOfLabels = inW.shape[1]\n",
    "    featSize = inW.shape[0]\n",
    "    avgGradW, avgGradT = np.zeros((numOfLabels, featSize)), np.zeros((numOfLabels, numOfLabels))\n",
    "    firstWord = 1 # if something needs debugging just enter the startword here, All previous words will be skipped\n",
    "    inWordIdxs = inWordIdxs if inWordIdxs is not None else extract_word_idxs(inData[:,1])\n",
    "    wordEnd = inWordIdxs[firstWord-1]\n",
    "\n",
    "    for i,w in enumerate(inWordIdxs[firstWord:]):\n",
    "        if verboseInter is not None and i % verboseInter == 0:\n",
    "            print(\"Computed Grads up to word: \" + str(i))\n",
    "        wordStart = wordEnd\n",
    "        wordEnd = w\n",
    "        logPY, logPYY, Z, logPy_X = compute_log_dist(inData[wordStart:wordEnd,2:], inW, inT, labels = inData[wordStart:wordEnd,0])\n",
    "        sumLogPy_X += logPy_X # It is already normalized by Z from the above function\n",
    "        gradW, gradT = compute_word_grads(inData[wordStart:wordEnd,2:],inData[wordStart:wordEnd,0], logPY, logPYY)\n",
    "        avgGradW += gradW\n",
    "        avgGradT += gradT\n",
    "\n",
    "    # Average out\n",
    "    numOfWords = wordIdxs.shape[0]\n",
    "    sumLogPy_X /= numOfWords\n",
    "    avgGradW /= numOfWords\n",
    "    avgGradT /= numOfWords\n",
    "    # save  Grad Results\n",
    "    if filePath is not None:\n",
    "        writeRs = write_grads_to_file(avgGradW, avgGradT, filePath, label = label)\n",
    "        \n",
    "    return sumLogPy_X, avgGradW, avgGradT\n",
    "# -------------------------------------------------------------------------------------------\n",
    "print(\"Computting average gradients for file {}. Data size: {}\".format(crfTrainFile,trainD.shape))\n",
    "f,gradW, gradT = compute_dataset_stats_n_grads(lblTrainD, inW, inT, filePath = resPath, verboseInter = 500)"
   ]
  },
  {
   "cell_type": "markdown",
   "metadata": {},
   "source": [
    "## Part 2.b: Learn Weights!"
   ]
  },
  {
   "cell_type": "code",
   "execution_count": 24,
   "metadata": {
    "jupyter": {
     "source_hidden": true
    }
   },
   "outputs": [
    {
     "name": "stdout",
     "output_type": "stream",
     "text": [
      "Training CRF ... c = 1000 \n",
      "\n",
      "Decoded up to word: 0\n",
      "Decoded up to word: 500\n",
      "Decoded up to word: 1000\n",
      "Decoded up to word: 1500\n",
      "Decoded up to word: 2000\n",
      "Decoded up to word: 2500\n",
      "Decoded up to word: 3000\n",
      "CRF test accuracy for c: 1000\n",
      "Letter-wise = 0.6812352087945645\n",
      "Word-Wise = 0.46932247746437916\n"
     ]
    }
   ],
   "source": [
    "def get_crf_obj(inData, w, t, c, savePath = None):\n",
    "    \"\"\" DESCIRPTION: COmpute the regularized CRF objective. Also returns the gradients to opti computation.\n",
    "    \"\"\"\n",
    "    crfObj = 0\n",
    "    #inWordIdxs = extract_word_idxs(inData[:,1])\n",
    "    label = 'solution.txt'\n",
    "    avgLogPy_X, gradW, gradY = compute_dataset_stats_n_grads(inData[:,:], w,t, filePath = savePath, label = label)\n",
    "    # Compute regulirized obbjective\n",
    "    crfObj = ( -c * avgLogPy_X )+ (0.5 *np.sum(np.power(w,2))) + ( 0.5 * np.sum(np.power(t,2)) )\n",
    "    return crfObj, gradW, gradT\n",
    "# ----------------------------------------------------------------------------------------\n",
    "def crf_obj(x, word_list, c, savePath = None):\n",
    "    \"\"\"Compute the CRF objective and gradient on the list of words (word_list)\n",
    "    evaluated at the current model x (w_y and T, stored as a vector)\n",
    "    \"\"\"\n",
    "    \n",
    "    # x is a vector as required by the solver. So reshape it to w_y and T\n",
    "    W = np.reshape(x[:128*26], (128, 26))  # each column of W is w_y (128 dim)\n",
    "    T = np.reshape(x[128*26:], (26, 26))  # T is 26*26\n",
    "    \n",
    "    # Compute the objective value of CRF objective log-likelihood + regularizer\n",
    "    # Along with gradients for computational efficiency\n",
    "    f, gradW, gradT = get_crf_obj(word_list, W, T, c, savePath=savePath)  \n",
    "\n",
    "    g_W = gradW                  # compute the gradient in W(128 * 26)\n",
    "    g_T = gradT                  # compute the gradient in T(26*26)\n",
    "    g = np.concatenate([g_W.reshape(-1), g_T.reshape(-1)])  # Flatten the\n",
    "                                                          # gradient back into\n",
    "                                                          # a vector\n",
    "    return [f,g]\n",
    "\n",
    "# ----------------------------------------------------------------------------------------\n",
    "def crf_train(inTrainD, c, saveModelFile = None):\n",
    "    print('Training CRF ... c = {} \\n'.format(c))\n",
    "\n",
    "    # Initial value of the parameters W and T, stored in a vector\n",
    "    x0 = np.zeros((128*26+26**2,1))\n",
    "\n",
    "    # Start the optimization\n",
    "    result = opt.fmin_tnc(crf_obj, x0, args = [inTrainD, c], maxfun=100,\n",
    "                          ftol=1e-3, disp=5)\n",
    "    model  = result[0]\n",
    "    W = np.reshape(model[:128*26], (128, 26))  # each column of W is w_y (128 dim)\n",
    "    T = np.reshape(model[128*26:], (26, 26))  # T is 26*26\n",
    "    #print(W)\n",
    "    if saveModelFile is not None:\n",
    "        with open(saveModelFile, 'w') as f:\n",
    "            np.savetxt(f, model, fmt='%f')\n",
    "    \n",
    "    \n",
    "    return W, T\n",
    "    \n",
    "# ---------------------------------------------------------------------------\n",
    "\n",
    "def crf_test(inTestD, w,t, c, labels=None, inWordIdxs = None,outFile = False, verboseInter = None):\n",
    "    \n",
    "    \"\"\" DESCRIPTION: Thisfunction will decote input sequence, produce leeter and word sie acc score and optionally write the\n",
    "                     resulting decoded sequence to a file!\n",
    "        ARGUMENTS: outFile (File Path): The file to hold the decoded sequences.\n",
    "        RETURNS: letterAcc (scalar) Letter-wise accuracy.\n",
    "                 wordACC (scalar): Word-Wise accuracy.\n",
    "    \"\"\"\n",
    "    \n",
    "    dataStart = 2 \n",
    "    if labels is not None:\n",
    "        dataStart += -1\n",
    "    if inWordIdxs is not None:\n",
    "        dataStart += -1\n",
    "    inWordIdxs = inWordIdxs if inWordIdxs is not None else extract_word_idxs(inTestD[:,1])\n",
    "    testLetterLabels = labels if labels is not None else inTestD[:,0]\n",
    "    letterAcc, wordAcc = 0, 0\n",
    "    firstWord = 1 # if something needs debugging just enter the startword here, All previous words will be skipped\n",
    "    wordEnd = inWordIdxs[firstWord-1]\n",
    "    # Decode each word\n",
    "    for i, limit in enumerate(inWordIdxs[firstWord:]):\n",
    "        if verboseInter is not None and i %500 == 0:\n",
    "            print(\"Decoded up to word: \" + str(i))\n",
    "        wordStart = wordEnd\n",
    "        wordEnd = limit\n",
    "        \n",
    "        decRes, maxObj = crf_decode(inTestD[wordStart:wordEnd, dataStart:], w, t)\n",
    "        # Get correct labels\n",
    "        res = np.sum((decRes == testLetterLabels[wordStart:wordEnd]).astype(int))     # find the number of labels that are equal to ground Truth\n",
    "        letterAcc += res                                                              # Letterwise acc is increases for every match found\n",
    "        wordAcc += 1 if res == decRes.shape[0] else 0                                 # word acc increases only when ALL labels are correct\n",
    "    # Average out letter-wise acc over all letter and word-wise over all words.    \n",
    "    letterAcc /= inTestD.shape[0]\n",
    "    wordAcc /= inWordIdxs.shape[0]\n",
    "    \n",
    "    \n",
    "    return letterAcc, wordAcc\n",
    "# ---------------------------------------------------------------------------\n",
    "def evaluate_crf(inTrainD, inTestD, c =1000, saveModelFile = None, saveAccFile = None, verboseInter = None):\n",
    "    \n",
    "    \"\"\" DESCRIPTION: Thisfunction will decote input sequence, produce leeter and word sie acc score and optionally write the\n",
    "                     resulting decoded sequence to a file!\n",
    "        ARGUMENTS: outFile (File Path): The file to hold the decoded sequences.\n",
    "        RETURNS: letterAcc (scalar) Letter-wise accuracy.\n",
    "                 wordACC (scalar): Word-Wise accuracy.\n",
    "    \"\"\"\n",
    "    # Train Part\n",
    "    savePath = saveModelFile\n",
    "    w, t = crf_train(inTrainD, c, saveModelFile = saveModelFile)\n",
    "    \n",
    "    # Test Part\n",
    "    letterAcc, wordAcc = crf_test(inTestD, w,t ,c, verboseInter = verboseInter)   \n",
    "    print('CRF test accuracy for c: {}\\nLetter-wise = {}\\nWord-Wise = {}'.format(c, letterAcc, wordAcc))\n",
    "    return letterAcc, wordAcc\n",
    "# -------------------------------------------------------------\n",
    " \n",
    "\n",
    "# Evaluate CRF and write model to file\n",
    "saveModelFile = os.path.join(resPath, 'solution.txt')\n",
    "saveAccFile = os.path.join(resPath, 'trained_crf_c_1000.txt')\n",
    "c = 1000\n",
    "letterAcc, wordAcc = evaluate_crf(lblTrainD, lblTestD, c, verboseInter = 500, saveModelFile = saveModelFile, saveAccFile = saveAccFile)"
   ]
  },
  {
   "cell_type": "markdown",
   "metadata": {},
   "source": [
    "# Part 3 Benchmarking with SVM!"
   ]
  },
  {
   "cell_type": "markdown",
   "metadata": {},
   "source": [
    "### Data For SVMs and CRF loaded From part 2.a!\n",
    "#### SV Evaluation and Plot Function!"
   ]
  },
  {
   "cell_type": "code",
   "execution_count": 26,
   "metadata": {
    "jupyter": {
     "source_hidden": true
    }
   },
   "outputs": [],
   "source": [
    "def get_svm_hmm_results(predFile, gTruth = None):\n",
    "    acc = 0\n",
    "    #if isinstance(type(gTruth), typedir) and isinstance(type(pred),dir):\n",
    "    if gTruth is None:\n",
    "        gTruth = '../data/sanitizedTestTruth.txt'\n",
    "    elif isinstance(gTruth, np.ndarray):\n",
    "        trueClass = gTruth\n",
    "    else:\n",
    "        with open(gTruth, 'r') as g:\n",
    "            trueClass = np.asarray([x.split(' ')[0] for x in g.readlines()]) # keep in mind that readlines retunrs the \\n character\n",
    "            \n",
    "    with open(predFile, 'r') as p:\n",
    "        predClass = np.asarray(p.read().splitlines(), dtype= np.int)\n",
    "        \n",
    "    #acc = np.sum(predClass == trueClass) / trueClass.shape[0]\n",
    "    return predClass\n",
    "# -------------------------------------\n",
    "# ----------------------------------------------------------------------\n",
    "def evaluate_predictions(pred, letterLabels, wordIdxs):\n",
    "    letterAcc, wordAcc = 0,0\n",
    "    firstWord = 1\n",
    "    wordEnd = wordIdxs[firstWord-1]\n",
    "    for i, limit in enumerate(wordIdxs[firstWord:]):\n",
    "        #if i %500 == 0:\n",
    "        wordStart = wordEnd\n",
    "        wordEnd = limit\n",
    "        \n",
    "        decSeq = pred[wordStart:wordEnd]\n",
    "        # Get correct labels\n",
    "        #print(decSeq, letterLabels[wordStart:wordEnd])\n",
    "        #print((decSeq == letterLabels[wordStart:wordEnd]))\n",
    "        res = np.sum((decSeq == letterLabels[wordStart:wordEnd]).astype(int))     # find the number of labels that are equal to ground Truth\n",
    "        letterAcc += res                                                              # Letterwise acc is increases for every match found\n",
    "        wordAcc += 1 if res == decSeq.shape[0] else 0                                 # word acc increases only when ALL labels are correct\n",
    "    # Average out letter-wise acc over all letter and word-wise over all words.    \n",
    "    letterAcc /= pred.shape[0]\n",
    "    wordAcc /= len(wordIdxs) # len gives as the number of words (each word is a line and the value is at which letter index it ends!)\n",
    "    return letterAcc, wordAcc\n",
    "# ----------------------------------------------------------------------\n",
    "def plot_accuracy(cParams, accs, labels= None, title = 'Accuracy Plot', saveDir = None):\n",
    "    \"\"\" DESCRIPTION: THis function will produce pltos for letter wands wordwise accuracy as a function of C params.\n",
    "                     It expects ndArrays.   \n",
    "        ARGUMENTS: xAxis(ndarray): values of C parameters.\n",
    "                   yAxis(ndArray): acc values for the various models\n",
    "    \"\"\"\n",
    "    numOfPlots = 1\n",
    "    if accs.ndim >1:\n",
    "        numOfPlots = accs.shape[0] # ist dim has how many models exist!\n",
    "    plt.figure(figsize=(6.5*numOfPlots, 5))\n",
    "    for n in range(numOfPlots):#\n",
    "        ax=plt.subplot(int('1'+str(numOfPlots)+str(n+1))) #index cannot be 0. As such increas it by 1 \n",
    "        if labels is not None and len(labels) >= n:\n",
    "            ax.set_title(labels[n])\n",
    "        if accs.ndim <2:\n",
    "            plt.plot(cParams, accs[:],marker = 'x')\n",
    "            for x,y in zip(cParams, accs):                                       # <--\n",
    "                plt.annotate('C: '+str(x), # this is the text\n",
    "                     (x,y), # this is the point to label\n",
    "                     textcoords=\"offset points\", # how to position the text\n",
    "                     xytext=(0,7), # distance from text to points (x,y)\n",
    "                     ha='center') # horizontal alignment can be left, right or center\n",
    "        else:\n",
    "            plt.plot(cParams, accs[n,:], marker = 'x')\n",
    "            for x,y in zip(cParams, accs[n,:]):                                       # <--\n",
    "                plt.annotate('C: '+str(x), # this is the text\n",
    "                     (x,y), # this is the point to label\n",
    "                     textcoords=\"offset points\", # how to position the text\n",
    "                     xytext=(0,7), # distance from text to points (x,y)\n",
    "                     ha='center') # horizontal alignment can be left, right or center\n",
    "        \n",
    "    plt.suptitle(title)\n",
    "    plt.xlabel('C Parameters')\n",
    "    plt.ylabel('Accuracy')\n",
    "    if saveDir is not None:\n",
    "        figFile = os.path.join(saveDir, '-'.join(title.split(' ')))\n",
    "        plt.savefig(figFile) \n",
    "    plt.show()"
   ]
  },
  {
   "cell_type": "markdown",
   "metadata": {},
   "source": [
    "## SVM HMM Evaluation"
   ]
  },
  {
   "cell_type": "code",
   "execution_count": 32,
   "metadata": {},
   "outputs": [
    {
     "name": "stdout",
     "output_type": "stream",
     "text": [
      "Executing:  B:\\Workspaces\\AML\\AML\\Assignment_1_Programming\\code\\svm_hmm_linux64\\svm_hmm_learn -c 10 B:\\Workspaces\\AML\\AML\\Assignment_1_Programming\\code\\../data\\train_struct.txt B:\\Workspaces\\AML\\AML\\Assignment_1_Programming\\code\\models/svm_hmm_10.model\n",
      "Executing:  B:\\Workspaces\\AML\\AML\\Assignment_1_Programming\\code\\svm_hmm_linux64\\svm_hmm_classify B:\\Workspaces\\AML\\AML\\Assignment_1_Programming\\code\\../data\\test_struct.txt B:\\Workspaces\\AML\\AML\\Assignment_1_Programming\\code\\models/svm_hmm_10.model B:\\Workspaces\\AML\\AML\\Assignment_1_Programming\\code\\results/test_c_10.outtags\n",
      "1 1\n",
      "Executing:  B:\\Workspaces\\AML\\AML\\Assignment_1_Programming\\code\\svm_hmm_linux64\\svm_hmm_learn -c 100 B:\\Workspaces\\AML\\AML\\Assignment_1_Programming\\code\\../data\\train_struct.txt B:\\Workspaces\\AML\\AML\\Assignment_1_Programming\\code\\models/svm_hmm_100.model\n",
      "Executing:  B:\\Workspaces\\AML\\AML\\Assignment_1_Programming\\code\\svm_hmm_linux64\\svm_hmm_classify B:\\Workspaces\\AML\\AML\\Assignment_1_Programming\\code\\../data\\test_struct.txt B:\\Workspaces\\AML\\AML\\Assignment_1_Programming\\code\\models/svm_hmm_100.model B:\\Workspaces\\AML\\AML\\Assignment_1_Programming\\code\\results/test_c_100.outtags\n",
      "1 1\n",
      "Executing:  B:\\Workspaces\\AML\\AML\\Assignment_1_Programming\\code\\svm_hmm_linux64\\svm_hmm_learn -c 1000 B:\\Workspaces\\AML\\AML\\Assignment_1_Programming\\code\\../data\\train_struct.txt B:\\Workspaces\\AML\\AML\\Assignment_1_Programming\\code\\models/svm_hmm_1000.model\n",
      "Executing:  B:\\Workspaces\\AML\\AML\\Assignment_1_Programming\\code\\svm_hmm_linux64\\svm_hmm_classify B:\\Workspaces\\AML\\AML\\Assignment_1_Programming\\code\\../data\\test_struct.txt B:\\Workspaces\\AML\\AML\\Assignment_1_Programming\\code\\models/svm_hmm_1000.model B:\\Workspaces\\AML\\AML\\Assignment_1_Programming\\code\\results/test_c_1000.outtags\n",
      "1 1\n"
     ]
    },
    {
     "ename": "FileNotFoundError",
     "evalue": "[Errno 2] No such file or directory: 'B:\\\\Workspaces\\\\AML\\\\AML\\\\Assignment_1_Programming\\\\code\\\\results/test_c_1000.outtags'",
     "output_type": "error",
     "traceback": [
      "\u001b[1;31m---------------------------------------------------------------------------\u001b[0m",
      "\u001b[1;31mFileNotFoundError\u001b[0m                         Traceback (most recent call last)",
      "\u001b[1;32m<ipython-input-32-1ae78b2407af>\u001b[0m in \u001b[0;36m<module>\u001b[1;34m\u001b[0m\n\u001b[0;32m     20\u001b[0m     \u001b[0mexit2\u001b[0m \u001b[1;33m=\u001b[0m \u001b[0mos\u001b[0m\u001b[1;33m.\u001b[0m\u001b[0msystem\u001b[0m\u001b[1;33m(\u001b[0m\u001b[0mcmdTest\u001b[0m\u001b[1;33m)\u001b[0m \u001b[1;31m# returns the exit status\u001b[0m\u001b[1;33m\u001b[0m\u001b[1;33m\u001b[0m\u001b[0m\n\u001b[0;32m     21\u001b[0m     \u001b[0mprint\u001b[0m\u001b[1;33m(\u001b[0m\u001b[0mexit\u001b[0m\u001b[1;33m,\u001b[0m \u001b[0mexit2\u001b[0m\u001b[1;33m)\u001b[0m\u001b[1;33m\u001b[0m\u001b[1;33m\u001b[0m\u001b[0m\n\u001b[1;32m---> 22\u001b[1;33m     \u001b[0mlabels\u001b[0m \u001b[1;33m=\u001b[0m \u001b[0mget_svm_hmm_results\u001b[0m\u001b[1;33m(\u001b[0m\u001b[0moutFile\u001b[0m\u001b[1;33m)\u001b[0m\u001b[1;33m\u001b[0m\u001b[1;33m\u001b[0m\u001b[0m\n\u001b[0m\u001b[0;32m     23\u001b[0m     \u001b[0mletterAcc\u001b[0m\u001b[1;33m,\u001b[0m \u001b[0mwordAcc\u001b[0m \u001b[1;33m=\u001b[0m \u001b[0mevaluate_predictions\u001b[0m\u001b[1;33m(\u001b[0m\u001b[0mnp\u001b[0m\u001b[1;33m.\u001b[0m\u001b[0masarray\u001b[0m\u001b[1;33m(\u001b[0m\u001b[0mlabels\u001b[0m\u001b[1;33m,\u001b[0m\u001b[0mdtype\u001b[0m\u001b[1;33m=\u001b[0m\u001b[0mnp\u001b[0m\u001b[1;33m.\u001b[0m\u001b[0mint\u001b[0m\u001b[1;33m)\u001b[0m\u001b[1;33m,\u001b[0m \u001b[0msanTestLabels\u001b[0m\u001b[1;33m[\u001b[0m\u001b[1;33m:\u001b[0m\u001b[1;33m,\u001b[0m\u001b[1;36m0\u001b[0m\u001b[1;33m]\u001b[0m\u001b[1;33m,\u001b[0m \u001b[0mwordTestIdxs\u001b[0m\u001b[1;33m)\u001b[0m\u001b[1;33m\u001b[0m\u001b[1;33m\u001b[0m\u001b[0m\n\u001b[0;32m     24\u001b[0m     \u001b[0macc\u001b[0m\u001b[1;33m[\u001b[0m\u001b[1;36m0\u001b[0m\u001b[1;33m,\u001b[0m\u001b[1;36m1\u001b[0m\u001b[1;33m,\u001b[0m\u001b[0mi\u001b[0m\u001b[1;33m]\u001b[0m\u001b[1;33m,\u001b[0m \u001b[0macc\u001b[0m\u001b[1;33m[\u001b[0m\u001b[1;36m1\u001b[0m\u001b[1;33m,\u001b[0m\u001b[1;36m1\u001b[0m\u001b[1;33m,\u001b[0m\u001b[0mi\u001b[0m\u001b[1;33m]\u001b[0m \u001b[1;33m=\u001b[0m \u001b[0mletterAcc\u001b[0m\u001b[1;33m,\u001b[0m \u001b[0mwordAcc\u001b[0m\u001b[1;33m\u001b[0m\u001b[1;33m\u001b[0m\u001b[0m\n",
      "\u001b[1;32m<ipython-input-26-9d1a9c41b73f>\u001b[0m in \u001b[0;36mget_svm_hmm_results\u001b[1;34m(predFile, gTruth)\u001b[0m\n\u001b[0;32m     10\u001b[0m             \u001b[0mtrueClass\u001b[0m \u001b[1;33m=\u001b[0m \u001b[0mnp\u001b[0m\u001b[1;33m.\u001b[0m\u001b[0masarray\u001b[0m\u001b[1;33m(\u001b[0m\u001b[1;33m[\u001b[0m\u001b[0mx\u001b[0m\u001b[1;33m.\u001b[0m\u001b[0msplit\u001b[0m\u001b[1;33m(\u001b[0m\u001b[1;34m' '\u001b[0m\u001b[1;33m)\u001b[0m\u001b[1;33m[\u001b[0m\u001b[1;36m0\u001b[0m\u001b[1;33m]\u001b[0m \u001b[1;32mfor\u001b[0m \u001b[0mx\u001b[0m \u001b[1;32min\u001b[0m \u001b[0mg\u001b[0m\u001b[1;33m.\u001b[0m\u001b[0mreadlines\u001b[0m\u001b[1;33m(\u001b[0m\u001b[1;33m)\u001b[0m\u001b[1;33m]\u001b[0m\u001b[1;33m)\u001b[0m \u001b[1;31m# keep in mind that readlines retunrs the \\n character\u001b[0m\u001b[1;33m\u001b[0m\u001b[1;33m\u001b[0m\u001b[0m\n\u001b[0;32m     11\u001b[0m \u001b[1;33m\u001b[0m\u001b[0m\n\u001b[1;32m---> 12\u001b[1;33m     \u001b[1;32mwith\u001b[0m \u001b[0mopen\u001b[0m\u001b[1;33m(\u001b[0m\u001b[0mpredFile\u001b[0m\u001b[1;33m,\u001b[0m \u001b[1;34m'r'\u001b[0m\u001b[1;33m)\u001b[0m \u001b[1;32mas\u001b[0m \u001b[0mp\u001b[0m\u001b[1;33m:\u001b[0m\u001b[1;33m\u001b[0m\u001b[1;33m\u001b[0m\u001b[0m\n\u001b[0m\u001b[0;32m     13\u001b[0m         \u001b[0mpredClass\u001b[0m \u001b[1;33m=\u001b[0m \u001b[0mnp\u001b[0m\u001b[1;33m.\u001b[0m\u001b[0masarray\u001b[0m\u001b[1;33m(\u001b[0m\u001b[0mp\u001b[0m\u001b[1;33m.\u001b[0m\u001b[0mread\u001b[0m\u001b[1;33m(\u001b[0m\u001b[1;33m)\u001b[0m\u001b[1;33m.\u001b[0m\u001b[0msplitlines\u001b[0m\u001b[1;33m(\u001b[0m\u001b[1;33m)\u001b[0m\u001b[1;33m,\u001b[0m \u001b[0mdtype\u001b[0m\u001b[1;33m=\u001b[0m \u001b[0mnp\u001b[0m\u001b[1;33m.\u001b[0m\u001b[0mint\u001b[0m\u001b[1;33m)\u001b[0m\u001b[1;33m\u001b[0m\u001b[1;33m\u001b[0m\u001b[0m\n\u001b[0;32m     14\u001b[0m \u001b[1;33m\u001b[0m\u001b[0m\n",
      "\u001b[1;31mFileNotFoundError\u001b[0m: [Errno 2] No such file or directory: 'B:\\\\Workspaces\\\\AML\\\\AML\\\\Assignment_1_Programming\\\\code\\\\results/test_c_1000.outtags'"
     ]
    }
   ],
   "source": [
    "# C parameter for regulirization impact.\n",
    "cParams = [1,2,5,10,100]\n",
    "# array that holds accuracies for all plots. its going to be 2x3x|cParmas| = letter, word-wise accuracy x 3 models x number of examined c Params\n",
    "# 1 dim: 0=letter-wise acc, 1 = word-wise acc\n",
    "# 2 dim: 0=CRF, 1=SVM HMM, 2 = SVM-MC\n",
    "# 3 dim: the various c Params\n",
    "acc = np.zeros((2,3,len(cParams)))\n",
    "for i,c in enumerate(cParams):\n",
    "    learnOptions = '-c ' +str(c)\n",
    "    svmHmmOutput = os.path.join(dir_path,'models/svm_hmm_'+str(c)+'.model')\n",
    "    ## Create a command to call the binaries required\n",
    "    cmd = ' '.join((learnerPath, learnOptions, svmTrainData, svmHmmOutput)) # ./svm_hmm_learn -c 5 -e 0.5 example7/declaration_of_independence.dat declaration.model \n",
    "    outFile = os.path.join(dir_path,'results/test_c_'+str(c)+'.outtags' )\n",
    "    cmdTest = ' '.join((testerPath, svmTestData, svmHmmOutput, outFile)) \n",
    "    #y, x = lbl.svm_read_problem(svmTrainData, return_scipy = True) # y: ndarray, x: csr_matrix \n",
    "    #m = lbl.train(y[:200], x[:200, :], '-c 4')\n",
    "    print(\"Executing: \" ,cmd)\n",
    "    exit = os.system(cmd) # returns the exit status\n",
    "    print(\"Executing: \" ,cmdTest)\n",
    "    exit2 = os.system(cmdTest) # returns the exit status\n",
    "    print(exit, exit2)\n",
    "    labels = get_svm_hmm_results(outFile)\n",
    "    letterAcc, wordAcc = evaluate_predictions(np.asarray(labels,dtype=np.int), sanTestLabels[:,0], wordTestIdxs)\n",
    "    acc[0,1,i], acc[1,1,i] = letterAcc, wordAcc"
   ]
  },
  {
   "cell_type": "markdown",
   "metadata": {},
   "source": [
    "## SV-MC Evaluation"
   ]
  },
  {
   "cell_type": "code",
   "execution_count": 33,
   "metadata": {
    "jupyter": {
     "source_hidden": true
    }
   },
   "outputs": [
    {
     "name": "stdout",
     "output_type": "stream",
     "text": [
      "Executing LIBLINEAR Multi Classification for C: 10 \n",
      "Accuracy = 60.4016% (15824/26198) (classification)\n",
      "Executing LIBLINEAR Multi Classification for C: 100 \n",
      "Accuracy = 67.3487% (17644/26198) (classification)\n",
      "Executing LIBLINEAR Multi Classification for C: 1000 \n",
      "Accuracy = 69.0778% (18097/26198) (classification)\n",
      "Executing LIBLINEAR Multi Classification for C: 5000 \n",
      "Accuracy = 69.2381% (18139/26198) (classification)\n",
      "Executing LIBLINEAR Multi Classification for C: 10000 \n",
      "Accuracy = 69.2915% (18153/26198) (classification)\n"
     ]
    }
   ],
   "source": [
    "# LIBLINEAR SVM for character by character multi-classification!\n",
    "# Read the data!\n",
    "yTrain, xTrain = lbl.svm_read_problem(libSVMTrainData, return_scipy = True) # y: ndarray, x: csr_matrix\n",
    "yTest, xTest = lbl.svm_read_problem(libSVMTestData, return_scipy = True) # y: ndarray, x: csr_matrix\n",
    "for i,c in enumerate(cParams):\n",
    "    learnOptions = '-c ' +str(c/xTrain.shape[0])\n",
    "    outFile = 'results/liblinear-mc_c_'+str(c)+'.outtags' \n",
    "    print(\"Executing LIBLINEAR Multi Classification for C: {} \".format(c))\n",
    "    model   = lbl.train(yTrain, xTrain, learnOptions)\n",
    "    p_label, p_acc, p_val = lbl.predict(yTest, xTest, model)\n",
    "    letterAcc, wordAcc = evaluate_predictions(np.asarray(p_label,dtype=np.int), sanTestLabels[:,0], wordTestIdxs)\n",
    "    acc[0,2,i] = p_acc[0]\n",
    "    acc[1,2,i] = wordAcc"
   ]
  },
  {
   "cell_type": "markdown",
   "metadata": {},
   "source": [
    "## CRF Evaluation"
   ]
  },
  {
   "cell_type": "code",
   "execution_count": 381,
   "metadata": {
    "collapsed": true,
    "jupyter": {
     "outputs_hidden": true
    }
   },
   "outputs": [
    {
     "name": "stdout",
     "output_type": "stream",
     "text": [
      "Training CRF ... c = 1 \n",
      "\n",
      "[[0. 0. 0. ... 0. 0. 0.]\n",
      " [0. 0. 0. ... 0. 0. 0.]\n",
      " [0. 0. 0. ... 0. 0. 0.]\n",
      " ...\n",
      " [0. 0. 0. ... 0. 0. 0.]\n",
      " [0. 0. 0. ... 0. 0. 0.]\n",
      " [0. 0. 0. ... 0. 0. 0.]]\n",
      "Decoded up to word: 0\n",
      "Decoded up to word: 500\n",
      "Decoded up to word: 1000\n",
      "Decoded up to word: 1500\n",
      "Decoded up to word: 2000\n",
      "Decoded up to word: 2500\n",
      "Decoded up to word: 3000\n",
      "CRF test accuracy for c: 1\n",
      "Letter-wise = 0.6812352087945645\n",
      "Word-Wise = 0.46932247746437916\n",
      "Training CRF ... c = 2 \n",
      "\n",
      "[[0. 0. 0. ... 0. 0. 0.]\n",
      " [0. 0. 0. ... 0. 0. 0.]\n",
      " [0. 0. 0. ... 0. 0. 0.]\n",
      " ...\n",
      " [0. 0. 0. ... 0. 0. 0.]\n",
      " [0. 0. 0. ... 0. 0. 0.]\n",
      " [0. 0. 0. ... 0. 0. 0.]]\n",
      "Decoded up to word: 0\n",
      "Decoded up to word: 500\n",
      "Decoded up to word: 1000\n",
      "Decoded up to word: 1500\n",
      "Decoded up to word: 2000\n",
      "Decoded up to word: 2500\n",
      "Decoded up to word: 3000\n",
      "CRF test accuracy for c: 2\n",
      "Letter-wise = 0.6812352087945645\n",
      "Word-Wise = 0.46932247746437916\n",
      "Training CRF ... c = 5 \n",
      "\n",
      "[[0. 0. 0. ... 0. 0. 0.]\n",
      " [0. 0. 0. ... 0. 0. 0.]\n",
      " [0. 0. 0. ... 0. 0. 0.]\n",
      " ...\n",
      " [0. 0. 0. ... 0. 0. 0.]\n",
      " [0. 0. 0. ... 0. 0. 0.]\n",
      " [0. 0. 0. ... 0. 0. 0.]]\n",
      "Decoded up to word: 0\n",
      "Decoded up to word: 500\n",
      "Decoded up to word: 1000\n",
      "Decoded up to word: 1500\n",
      "Decoded up to word: 2000\n",
      "Decoded up to word: 2500\n",
      "Decoded up to word: 3000\n",
      "CRF test accuracy for c: 5\n",
      "Letter-wise = 0.6812352087945645\n",
      "Word-Wise = 0.46932247746437916\n",
      "Training CRF ... c = 10 \n",
      "\n",
      "[[0. 0. 0. ... 0. 0. 0.]\n",
      " [0. 0. 0. ... 0. 0. 0.]\n",
      " [0. 0. 0. ... 0. 0. 0.]\n",
      " ...\n",
      " [0. 0. 0. ... 0. 0. 0.]\n",
      " [0. 0. 0. ... 0. 0. 0.]\n",
      " [0. 0. 0. ... 0. 0. 0.]]\n",
      "Decoded up to word: 0\n",
      "Decoded up to word: 500\n",
      "Decoded up to word: 1000\n",
      "Decoded up to word: 1500\n",
      "Decoded up to word: 2000\n",
      "Decoded up to word: 2500\n",
      "Decoded up to word: 3000\n",
      "CRF test accuracy for c: 10\n",
      "Letter-wise = 0.6812352087945645\n",
      "Word-Wise = 0.46932247746437916\n",
      "Training CRF ... c = 100 \n",
      "\n",
      "[[0. 0. 0. ... 0. 0. 0.]\n",
      " [0. 0. 0. ... 0. 0. 0.]\n",
      " [0. 0. 0. ... 0. 0. 0.]\n",
      " ...\n",
      " [0. 0. 0. ... 0. 0. 0.]\n",
      " [0. 0. 0. ... 0. 0. 0.]\n",
      " [0. 0. 0. ... 0. 0. 0.]]\n",
      "Decoded up to word: 0\n",
      "Decoded up to word: 500\n",
      "Decoded up to word: 1000\n",
      "Decoded up to word: 1500\n",
      "Decoded up to word: 2000\n",
      "Decoded up to word: 2500\n",
      "Decoded up to word: 3000\n",
      "CRF test accuracy for c: 100\n",
      "Letter-wise = 0.6812352087945645\n",
      "Word-Wise = 0.46932247746437916\n"
     ]
    }
   ],
   "source": [
    "for i,c in enumerate(cParams):\n",
    "    # Evaluate CRF and write model to file\n",
    "    #saveModelFile = os.path.join(resPath, 'solution.txt')\n",
    "    saveModelFile = None\n",
    "    saveAccFile = None\n",
    "    letterAcc, wordAcc = evaluate_crf(lblTrainD[0:20], lblTestD, c=c, saveModelFile = saveModelFile, saveAccFile = saveAccFile)\n",
    "    acc[0,0,i] = letterAcc\n",
    "    acc[1,0,i] = wordAcc"
   ]
  },
  {
   "cell_type": "markdown",
   "metadata": {},
   "source": [
    "## Plot the Results"
   ]
  },
  {
   "cell_type": "code",
   "execution_count": 206,
   "metadata": {
    "collapsed": true,
    "jupyter": {
     "outputs_hidden": true
    }
   },
   "outputs": [
    {
     "name": "stdout",
     "output_type": "stream",
     "text": [
      "Accuracy results for SVM HMM, for C: [1, 2, 5, 10, 100]:\n",
      " [0.65191999 0.67947935 0.72036033 0.75009543 0.82311627]\n",
      "Accuracy results for SVM MC, for C: [1, 2, 5, 10, 100]:\n",
      " [0. 0. 0. 0. 0.]\n"
     ]
    }
   ],
   "source": [
    "# Print results\n",
    "# NOTE: acc matrix is dim1 : 0: letter Acc 1: word Acc | DIM2: 0=CRF, 1=SVM_HMM, 2= SVM_MC | DIM3: i for each of the c params\n",
    "print(\"Accuracy results for CRF, for C: {}:\\n {}\".format(cParams, acc[0,0,:]))\n",
    "print(\"Accuracy results for SVM HMM, for C: {}:\\n {}\".format(cParams, acc[0,1,:]))\n",
    "print(\"Accuracy results for SVM MC, for C: {}:\\n {}\".format(cParams, acc[0,2,:]))"
   ]
  },
  {
   "cell_type": "code",
   "execution_count": 488,
   "metadata": {},
   "outputs": [
    {
     "data": {
      "image/png": "[encoded data removed]",
      "text/plain": [
       "<Figure size 1404x360 with 3 Axes>"
      ]
     },
     "metadata": {
      "needs_background": "light"
     },
     "output_type": "display_data"
    },
    {
     "data": {
      "image/png": "[encoded data removed]",
      "text/plain": [
       "<Figure size 1404x360 with 3 Axes>"
      ]
     },
     "metadata": {
      "needs_background": "light"
     },
     "output_type": "display_data"
    }
   ],
   "source": [
    "# Letter-wise Accuracy\n",
    "plot_accuracy(cParams, acc[0,:,:], labels = ['CRF','SVM-HMM', 'SVM-MC'], title = 'Letter-wise Accuracy vs C Parameters',saveDir=resPath)\n",
    "# Word-wise Accuracy\n",
    "plot_accuracy(cParams, acc[1,:,:], labels = ['CRF','SVM-HMM', 'SVM-MC'], title = 'Word-wise Accuracy vs C Parameters', saveDir=resPath)"
   ]
  },
  {
   "cell_type": "markdown",
   "metadata": {},
   "source": [
    "# PART 4\n",
    "## The evil machine learner\n",
    "#### Load Indx Files, and Corruptions pattern"
   ]
  },
  {
   "cell_type": "code",
   "execution_count": 463,
   "metadata": {
    "collapsed": true,
    "jupyter": {
     "outputs_hidden": true
    }
   },
   "outputs": [
    {
     "name": "stdout",
     "output_type": "stream",
     "text": [
      "Corrupted Data files not found. Building them From Scratch!\n",
      "Creating All train files (CRF, SVM-HMM, SVM-MC) with K=0 corrupted lines\n",
      "Writing: \n",
      "-> CRF train data to /home/nikolaos/Workspaces/AML/Assignment_1_Programming/code/../data/0corr_crf_train.txt\n",
      "-> SVM-MC train data to /home/nikolaos/Workspaces/AML/Assignment_1_Programming/code/../data/0corr_liblinear_svm_train.txt\n",
      "-> HMM Train data to /home/nikolaos/Workspaces/AML/Assignment_1_Programming/code/../data/0corr_svm_hmm_train.txt\n",
      "Creating All train files (CRF, SVM-HMM, SVM-MC) with K=500 corrupted lines\n",
      "Writing: \n",
      "-> CRF train data to /home/nikolaos/Workspaces/AML/Assignment_1_Programming/code/../data/500corr_crf_train.txt\n",
      "-> SVM-MC train data to /home/nikolaos/Workspaces/AML/Assignment_1_Programming/code/../data/500corr_liblinear_svm_train.txt\n",
      "-> HMM Train data to /home/nikolaos/Workspaces/AML/Assignment_1_Programming/code/../data/500corr_svm_hmm_train.txt\n",
      "Creating All train files (CRF, SVM-HMM, SVM-MC) with K=1000 corrupted lines\n",
      "Writing: \n",
      "-> CRF train data to /home/nikolaos/Workspaces/AML/Assignment_1_Programming/code/../data/1000corr_crf_train.txt\n",
      "-> SVM-MC train data to /home/nikolaos/Workspaces/AML/Assignment_1_Programming/code/../data/1000corr_liblinear_svm_train.txt\n",
      "-> HMM Train data to /home/nikolaos/Workspaces/AML/Assignment_1_Programming/code/../data/1000corr_svm_hmm_train.txt\n",
      "Creating All train files (CRF, SVM-HMM, SVM-MC) with K=1500 corrupted lines\n",
      "Writing: \n",
      "-> CRF train data to /home/nikolaos/Workspaces/AML/Assignment_1_Programming/code/../data/1500corr_crf_train.txt\n",
      "-> SVM-MC train data to /home/nikolaos/Workspaces/AML/Assignment_1_Programming/code/../data/1500corr_liblinear_svm_train.txt\n",
      "-> HMM Train data to /home/nikolaos/Workspaces/AML/Assignment_1_Programming/code/../data/1500corr_svm_hmm_train.txt\n",
      "Creating All train files (CRF, SVM-HMM, SVM-MC) with K=2000 corrupted lines\n",
      "Writing: \n",
      "-> CRF train data to /home/nikolaos/Workspaces/AML/Assignment_1_Programming/code/../data/2000corr_crf_train.txt\n",
      "-> SVM-MC train data to /home/nikolaos/Workspaces/AML/Assignment_1_Programming/code/../data/2000corr_liblinear_svm_train.txt\n",
      "-> HMM Train data to /home/nikolaos/Workspaces/AML/Assignment_1_Programming/code/../data/2000corr_svm_hmm_train.txt\n",
      "Creating All train files (CRF, SVM-HMM, SVM-MC) with K=2500 corrupted lines\n",
      "Writing: \n",
      "-> CRF train data to /home/nikolaos/Workspaces/AML/Assignment_1_Programming/code/../data/2500corr_crf_train.txt\n",
      "-> SVM-MC train data to /home/nikolaos/Workspaces/AML/Assignment_1_Programming/code/../data/2500corr_liblinear_svm_train.txt\n",
      "-> HMM Train data to /home/nikolaos/Workspaces/AML/Assignment_1_Programming/code/../data/2500corr_svm_hmm_train.txt\n"
     ]
    }
   ],
   "source": [
    "def transform_struct_to_matrix_file(inStructFile):\n",
    "    \"\"\" Not Needed\n",
    "    \"\"\"\n",
    "    outMatrixFile = os.path.join(inStructFile.rsplit('/',1)[0], inStructFile.rsplit('/',1)[1].split('.')[0] + '_matrix.txt')\n",
    "    m = 0\n",
    "    print(\"Writing conderted struct-> matrix output to {}\".format(outMatrixFile))\n",
    "       # with open(inStructFile,'r') as i, open(outMatrixFile,'w') as o:\n",
    "    return m\n",
    "\n",
    "# ---------------------------------------------------------------\n",
    "\n",
    "# define rotataion translation funtiocs\n",
    "def corrupt_data(data, wordIdxs, cScheme, k='all'):\n",
    "    \"\"\" DESCRIPTION: Apply the corruption transformation as specified in cScheme  to data, indexed by word IDXs.\n",
    "        ARGUMENTS: data(narray): Matrix holdsing the raw data; dims: numOfLetterx128\n",
    "                   wordIdx(nd array): Array holding the word each letter belogns to; dims numOfLetter x 1\n",
    "                   cScheme (list): A list holding the corruption transofrmations. Format is\n",
    "                       r wordIdx degrees                  for rotation \n",
    "                       t word idx xTrans yTrans(optional) for translation\n",
    "        RETURNS: corruptedData(nd array): The matrix holding the transformed data. DIMS: numOf letters x 128\n",
    "    \"\"\"\n",
    "    corruptedData = np.copy(data)\n",
    "    k = k if k is not 'all' else int(data.shape[0])\n",
    "    # For each pixel (x, y), the output will be calculated as (ax+by+c, dx+ey+f). \n",
    "    # So if you want to apply a translation, you only have to look at the c and f values of your matrix.\n",
    "    a = int(1)\n",
    "    b = 0\n",
    "    c = 0 #left/right (i.e. 5/-5)\n",
    "    d = 0\n",
    "    e = int(1)\n",
    "    f = 0 #up/down (i.e. 5/-5)\n",
    "    # Extract the corruption shceme\n",
    "    for i,s in enumerate(cScheme[0:k]):\n",
    "        tarWord = int(s[1])\n",
    "        j = 0\n",
    "        if s[0] == 'r': # for rotation\n",
    "            for d in data[wordIdxs[tarWord-1]: wordIdxs[tarWord],:]:    \n",
    "                d = d.reshape(16,8)\n",
    "                img = Image.fromarray(d.astype(np.uint8))\n",
    "                img = img.rotate(int(s[1])) \n",
    "                corruptedData[tarWord-1+j,:] = np.array(img).reshape(128)\n",
    "                j += 1\n",
    "        elif s[1] == 't': # for translation\n",
    "            xTrans = int(s[2])\n",
    "            yTrans = int(s[3]) if len(s) >3 else 0\n",
    "\n",
    "            for d in data[wordIdxs[tarWord-1]: wordIdxs[tarWord],:]:    \n",
    "                d = d.reshape(16,8)\n",
    "                img = Image.fromarray(d.astype(np.uint8))\n",
    "                img = img.rotate(s[1]) \n",
    "                img = img.transform(img.size, Image.AFFINE, (a, b, xTrans, d, e, yTrans))\n",
    "                corruptedData[tarWord-1+j,:] = np.array(img).reshape(128,-1)\n",
    "                j += 1\n",
    "    \n",
    "    return corruptedData\n",
    "# --------------------------------------------------------------------------------------------------------\n",
    "\n",
    "def save_matrix_as_structs(matrix, gTruth, savePath, k=0):\n",
    "    \"\"\" DESCRIPTION: This funciton takes the input data, along with letter-wise and word-wise labels and transforms\n",
    "                     them into a readable format for liblinear SVM and HMM SVM. It writes the transformed output into\n",
    "                     2 separate files.\n",
    "    \"\"\"\n",
    "    svmMcFile  = os.path.join(savePath, str(k)+'corr_liblinear_svm_train.txt')\n",
    "    svmHMMFile = os.path.join(savePath, str(k)+'corr_svm_hmm_train.txt')\n",
    "    crfFile    = os.path.join(savePath, str(k)+'corr_crf_train.txt') \n",
    "    # Turn and save as liblinear struct\n",
    "    line  = []\n",
    "    line2 = []\n",
    "    line3 = []\n",
    "    try:\n",
    "        print(\"Writing: \\n-> CRF train data to {}\\n-> SVM-MC train data to {}\\n-> HMM Train data to {}\".format(crfFile,svmMcFile, svmHMMFile))\n",
    "        with open(svmMcFile, 'w') as s, open(svmHMMFile, 'w') as h, open(crfFile,'w') as c:\n",
    "            for i, d in enumerate(matrix): \n",
    "                #print(gTruth[i,0])\n",
    "                line.append(str(gTruth[i,0])) # append label \n",
    "                line2.append(str(gTruth[i,0])) # append label \n",
    "                line2.append(\"qid:\"+str(gTruth[i,1])) # append label \n",
    "                for j, v in enumerate(d): # append all data. Only insert non-zero vals -> sparse representation!\n",
    "                    if v != 0:\n",
    "                        line.append(str(j+1)+\":\"+str(v)) \n",
    "                        line2.append(str(int(j+1))+\":\"+str(int(v))) \n",
    "                        #print(line)\n",
    "                line.append(\"\\n\") \n",
    "                line2.append(\"\\n\") \n",
    "                s.write(' '.join(line))\n",
    "                h.write(' '.join(line2))\n",
    "                line = []\n",
    "                line2 = []\n",
    "            filler = np.ones((matrix.shape[0],5)) * -1\n",
    "            np.savetxt(c, np.append(filler,matrix,axis=1), fmt = '%d')\n",
    "        return 1\n",
    "    except:\n",
    "        print(\"Failes to wrtie corrupted matrix data to files.\")\n",
    "        return 0\n",
    "# ---------------------------------------------------------------\n",
    "# Perform Train Data (Only) Tranformations - if not already done.\n",
    "# Load the corruption scheme\n",
    "cSchemeFile = os.path.join(dataPath, 'transform.txt')\n",
    "cDataFile = os.path.join(dataPath, '0corr_liblinear_svm_train.txt')\n",
    "corruptLines= [0,500,1000,1500,2000,2500]\n",
    "if not os.path.exists(cDataFile):\n",
    "    print(\"Corrupted Data files not found. Building them From Scratch!\")\n",
    "    with open(cSchemeFile,'r') as c, open(cDataFile, 'w') as d:\n",
    "        cScheme =[x.split(' ') for x in c.read().splitlines()]   # split file into a list of lists of tokens\n",
    "        # Load the data in CRF readable format\n",
    "        crfTrainFile = os.path.join(dataPath, 'train.txt')\n",
    "        crfTestFile  = os.path.join(dataPath, 'test.txt')\n",
    "        trainD, testD = load_crf_data(crfTrainFile, crfTestFile)\n",
    "        for k in corruptLines:\n",
    "            print(\"Creating All train files (CRF, SVM-HMM, SVM-MC) with K={} corrupted lines\".format(k))\n",
    "            corruptedData = corrupt_data(trainD, wordIdxs, cScheme, k =  k)\n",
    "            save_matrix_as_structs(corruptedData, sanTrainLabels, dataPath, k =k)\n",
    "       \n",
    "# ---------------------------------------------------------------\n",
    "# check if values are already loaded\n",
    "#try:\n",
    "#    corrTrainD\n",
    "#except NameError:\n",
    "#        # Load the data in CRF readable format\n",
    "#        crfTrainFile = os.path.join(dataPath, 'train.txt')\n",
    "#        crfTestFile  = os.path.join(dataPath, 'test.txt')\n",
    "#        trainD, testD = load_crf_data(crfTrainFile, crfTestFile)\n"
   ]
  },
  {
   "cell_type": "markdown",
   "metadata": {},
   "source": [
    "### Evaluate Models on different K= [0:500:2500]"
   ]
  },
  {
   "cell_type": "code",
   "execution_count": 471,
   "metadata": {},
   "outputs": [],
   "source": [
    "def SVM_HMM_eval(trainD, testD, learnerPath, testerPath, inLetterLabels, inWordIdxs, c = 10, label =''): \n",
    "    learnOptions = '-c ' +str(c)\n",
    "    svmHmmOutput = os.path.join(dir_path,'models/svm_hmm_c_'+str(c)+label+'.model')\n",
    "    ## Create a command to call the binaries required\n",
    "    cmd1 = ' '.join((learnerPath, learnOptions, trainD, svmHmmOutput)) # ./svm_hmm_learn -c 5 -e 0.5 example7/declaration_of_independence.dat declaration.model \n",
    "    outFile = os.path.join(dir_path,'results/test_c_'+str(c)+label+'.outtags')\n",
    "    cmdTest1 = ' '.join((testerPath, testD, svmHmmOutput, outFile)) \n",
    "    #y, x = lbl.svm_read_problem(svmTrainData, return_scipy = True) # y: ndarray, x: csr_matrix \n",
    "    #m = lbl.train(y[:200], x[:200, :], '-c 4')\n",
    "    print(\"Executing: \" ,cmd1)\n",
    "    exit = os.system(cmd1) # returns the exit status\n",
    "    print(\"Write results to \", outFile)\n",
    "    print('Executing', cmdTest1)\n",
    "    exit2 = os.system(cmdTest1) # returns the exit status\n",
    "    print(exit, exit2)\n",
    "    #ret = compute_letterwise_accuracy(outFile, gTruth = gTruth[:,0])\n",
    "    pred = get_svm_hmm_results(outFile)\n",
    "    letterAcc, wordAcc = evaluate_predictions(pred, inLetterLabels, inWordIdxs)\n",
    "    return letterAcc, wordAcc\n",
    "\n",
    "# ------------------------------------------------------------------------\n",
    "def SVM_MC_eval(trainFile, testFile, inLetterLabels, inWordIdxs, c = 10, label =''):\n",
    "    \"\"\" DESCRIPTION: This function will train a model of the data contained in trainFile and test omn the data in testFile.\n",
    "                     It will call upon liblinear's implementation of SVM to do multiclass (MC) chgaracter-wise classification.\n",
    "                     It will return the letterwise accuracy.\n",
    "    \"\"\"\n",
    "    wordAcc = 0\n",
    "    yTrain, xTrain = lbl.svm_read_problem(trainFile, return_scipy = True) # y: ndarray, x: csr_matrix\n",
    "    yTest, xTest = lbl.svm_read_problem(testFile, return_scipy = True) # y: ndarray, x: csr_matrix\n",
    "    learnOptions = '-c ' +str(c/len(xTrain)) # LIBLINEAR DOES NOT divide C para by n: the numder of samples. Need to do it manually.\n",
    "    outFile = 'results/liblinear-mc_c_'+str(c)+label+'.outtags' \n",
    "    model   = lbl.train(yTrain, xTrain, learnOptions)\n",
    "    p_label, p_acc, p_val = lbl.predict(yTest, xTest, model)\n",
    "    # Get letter and word accuracies. Returned type is a list so we need to convert to numpy array. We already have letter acc.\n",
    "    _, wordAcc = evaluate_predictions(np.asarray(p_label, dtype=np.int), inLetterLabels, inWordIdxs)\n",
    "        \n",
    "    return p_acc[0], wordAcc, p_label   "
   ]
  },
  {
   "cell_type": "markdown",
   "metadata": {},
   "source": [
    "### Evaluate CRF"
   ]
  },
  {
   "cell_type": "code",
   "execution_count": null,
   "metadata": {
    "collapsed": true,
    "jupyter": {
     "outputs_hidden": true
    }
   },
   "outputs": [
    {
     "name": "stdout",
     "output_type": "stream",
     "text": [
      "\n",
      "Evaluating CRF at c:7 with k= 0 Corrupted lines\n",
      "Training CRF ... c = 7 \n",
      "\n",
      "CRF test accuracy for c: 7\n",
      "Letter-wise = 0.6812352087945645\n",
      "Word-Wise = 0.46932247746437916\n",
      "\n",
      "Evaluating CRF at c:7 with k= 500 Corrupted lines\n",
      "Training CRF ... c = 7 \n",
      "\n",
      "CRF test accuracy for c: 7\n",
      "Letter-wise = 0.6812352087945645\n",
      "Word-Wise = 0.46932247746437916\n",
      "\n",
      "Evaluating CRF at c:7 with k= 1000 Corrupted lines\n",
      "Training CRF ... c = 7 \n",
      "\n",
      "CRF test accuracy for c: 7\n",
      "Letter-wise = 0.6812352087945645\n",
      "Word-Wise = 0.46932247746437916\n",
      "\n",
      "Evaluating CRF at c:7 with k= 1500 Corrupted lines\n",
      "Training CRF ... c = 7 \n",
      "\n"
     ]
    }
   ],
   "source": [
    "# ------------------------------------------------------------------------\n",
    "cOpt = int(7)\n",
    "accCorr = np.zeros((2,3,len(corruptLines)))\n",
    "for i,k in enumerate(corruptLines[0:]):\n",
    "    \n",
    "    print(\"\\nEvaluating CRF at c:{} with k= {} Corrupted lines\".format(cOpt, k))\n",
    "    # Load Data\n",
    "    crfCorrTrainFile = os.path.join(dataPath, str(k)+'corr_crf_train.txt')\n",
    "    trainD, testD = load_crf_data(crfCorrTrainFile, crfTestFile)\n",
    "    # Append letter and word labels to each line (letter)\n",
    "    lblCorrTrainD, lblTestD = append_label_to_crf_data(trainD, testD, sanTrainLabels, sanTestLabels)\n",
    "    # Evaluate\n",
    "    accCorr[0,0,i], accCorr[1,0,i] = evaluate_crf(lblCorrTrainD[0:20], lblTestD, c=cOpt, saveModelFile = None, saveAccFile = None)\n",
    "    "
   ]
  },
  {
   "cell_type": "markdown",
   "metadata": {},
   "source": [
    "### Evaluate SVM HMM"
   ]
  },
  {
   "cell_type": "code",
   "execution_count": 472,
   "metadata": {
    "collapsed": true,
    "jupyter": {
     "outputs_hidden": true
    }
   },
   "outputs": [
    {
     "name": "stdout",
     "output_type": "stream",
     "text": [
      "Evaluating SVM HMM at c:7 with k= 0 Corrupted lines\n",
      "Executing:  /home/nikolaos/Workspaces/AML/Assignment_1_Programming/code/svm_hmm_linux64/svm_hmm_learn -c 7 /home/nikolaos/Workspaces/AML/Assignment_1_Programming/code/../data/0corr_svm_hmm_train.txt /home/nikolaos/Workspaces/AML/Assignment_1_Programming/code/models/svm_hmm_c_7.model\n",
      "Write results to  /home/nikolaos/Workspaces/AML/Assignment_1_Programming/code/results/test_c_7.outtags\n",
      "Executing /home/nikolaos/Workspaces/AML/Assignment_1_Programming/code/svm_hmm_linux64/svm_hmm_classify /home/nikolaos/Workspaces/AML/Assignment_1_Programming/code/../data/test_struct.txt /home/nikolaos/Workspaces/AML/Assignment_1_Programming/code/models/svm_hmm_c_7.model /home/nikolaos/Workspaces/AML/Assignment_1_Programming/code/results/test_c_7.outtags\n",
      "0 0\n",
      "Evaluating SVM HMM at c:7 with k= 500 Corrupted lines\n",
      "Executing:  /home/nikolaos/Workspaces/AML/Assignment_1_Programming/code/svm_hmm_linux64/svm_hmm_learn -c 7 /home/nikolaos/Workspaces/AML/Assignment_1_Programming/code/../data/500corr_svm_hmm_train.txt /home/nikolaos/Workspaces/AML/Assignment_1_Programming/code/models/svm_hmm_c_7.model\n",
      "Write results to  /home/nikolaos/Workspaces/AML/Assignment_1_Programming/code/results/test_c_7.outtags\n",
      "Executing /home/nikolaos/Workspaces/AML/Assignment_1_Programming/code/svm_hmm_linux64/svm_hmm_classify /home/nikolaos/Workspaces/AML/Assignment_1_Programming/code/../data/test_struct.txt /home/nikolaos/Workspaces/AML/Assignment_1_Programming/code/models/svm_hmm_c_7.model /home/nikolaos/Workspaces/AML/Assignment_1_Programming/code/results/test_c_7.outtags\n",
      "0 0\n",
      "Evaluating SVM HMM at c:7 with k= 1000 Corrupted lines\n",
      "Executing:  /home/nikolaos/Workspaces/AML/Assignment_1_Programming/code/svm_hmm_linux64/svm_hmm_learn -c 7 /home/nikolaos/Workspaces/AML/Assignment_1_Programming/code/../data/1000corr_svm_hmm_train.txt /home/nikolaos/Workspaces/AML/Assignment_1_Programming/code/models/svm_hmm_c_7.model\n",
      "Write results to  /home/nikolaos/Workspaces/AML/Assignment_1_Programming/code/results/test_c_7.outtags\n",
      "Executing /home/nikolaos/Workspaces/AML/Assignment_1_Programming/code/svm_hmm_linux64/svm_hmm_classify /home/nikolaos/Workspaces/AML/Assignment_1_Programming/code/../data/test_struct.txt /home/nikolaos/Workspaces/AML/Assignment_1_Programming/code/models/svm_hmm_c_7.model /home/nikolaos/Workspaces/AML/Assignment_1_Programming/code/results/test_c_7.outtags\n",
      "0 0\n",
      "Evaluating SVM HMM at c:7 with k= 1500 Corrupted lines\n",
      "Executing:  /home/nikolaos/Workspaces/AML/Assignment_1_Programming/code/svm_hmm_linux64/svm_hmm_learn -c 7 /home/nikolaos/Workspaces/AML/Assignment_1_Programming/code/../data/1500corr_svm_hmm_train.txt /home/nikolaos/Workspaces/AML/Assignment_1_Programming/code/models/svm_hmm_c_7.model\n",
      "Write results to  /home/nikolaos/Workspaces/AML/Assignment_1_Programming/code/results/test_c_7.outtags\n",
      "Executing /home/nikolaos/Workspaces/AML/Assignment_1_Programming/code/svm_hmm_linux64/svm_hmm_classify /home/nikolaos/Workspaces/AML/Assignment_1_Programming/code/../data/test_struct.txt /home/nikolaos/Workspaces/AML/Assignment_1_Programming/code/models/svm_hmm_c_7.model /home/nikolaos/Workspaces/AML/Assignment_1_Programming/code/results/test_c_7.outtags\n",
      "0 0\n",
      "Evaluating SVM HMM at c:7 with k= 2000 Corrupted lines\n",
      "Executing:  /home/nikolaos/Workspaces/AML/Assignment_1_Programming/code/svm_hmm_linux64/svm_hmm_learn -c 7 /home/nikolaos/Workspaces/AML/Assignment_1_Programming/code/../data/2000corr_svm_hmm_train.txt /home/nikolaos/Workspaces/AML/Assignment_1_Programming/code/models/svm_hmm_c_7.model\n",
      "Write results to  /home/nikolaos/Workspaces/AML/Assignment_1_Programming/code/results/test_c_7.outtags\n",
      "Executing /home/nikolaos/Workspaces/AML/Assignment_1_Programming/code/svm_hmm_linux64/svm_hmm_classify /home/nikolaos/Workspaces/AML/Assignment_1_Programming/code/../data/test_struct.txt /home/nikolaos/Workspaces/AML/Assignment_1_Programming/code/models/svm_hmm_c_7.model /home/nikolaos/Workspaces/AML/Assignment_1_Programming/code/results/test_c_7.outtags\n",
      "0 0\n",
      "Evaluating SVM HMM at c:7 with k= 2500 Corrupted lines\n",
      "Executing:  /home/nikolaos/Workspaces/AML/Assignment_1_Programming/code/svm_hmm_linux64/svm_hmm_learn -c 7 /home/nikolaos/Workspaces/AML/Assignment_1_Programming/code/../data/2500corr_svm_hmm_train.txt /home/nikolaos/Workspaces/AML/Assignment_1_Programming/code/models/svm_hmm_c_7.model\n",
      "Write results to  /home/nikolaos/Workspaces/AML/Assignment_1_Programming/code/results/test_c_7.outtags\n",
      "Executing /home/nikolaos/Workspaces/AML/Assignment_1_Programming/code/svm_hmm_linux64/svm_hmm_classify /home/nikolaos/Workspaces/AML/Assignment_1_Programming/code/../data/test_struct.txt /home/nikolaos/Workspaces/AML/Assignment_1_Programming/code/models/svm_hmm_c_7.model /home/nikolaos/Workspaces/AML/Assignment_1_Programming/code/results/test_c_7.outtags\n",
      "0 0\n"
     ]
    }
   ],
   "source": [
    "for i,k in enumerate(corruptLines[0:]):\n",
    "    print(\"Evaluating SVM HMM at c:{} with k= {} Corrupted lines\".format(cOpt, k))\n",
    "    svmHMMTrainFile = os.path.join(dataPath, str(k)+'corr_svm_hmm_train.txt')\n",
    "    #svmHMMTrainFile = os.path.join(dataPath, 'train_struct.txt')\n",
    "    svmHMMTestFile = os.path.join(dataPath, 'test_struct.txt')\n",
    "    learnOptions = '-c ' +str(cOpt)\n",
    "    label = '_k_'+str(k)\n",
    "    #SVM_HMM_eval(svmHMMTrainFile, svmHMMTestFile, learnerPath, testerPath, sanTestLabels[:,0], c=cOpt, label = label)\n",
    "    #SVM_HMM_eval(svmHMMTrainFile, svmTestData, learnerPath, testerPath, sanTestLabels[:,0], c=cOpt, label = label)\n",
    "    accCorr[0, 1, i], accCorr[1, 1, i] = SVM_HMM_eval(svmHMMTrainFile, svmTestData,learnerPath, testerPath, sanTestLabels[:,0], wordTestIdxs, c=cOpt)#, label='_k_'+str(k)+'m')"
   ]
  },
  {
   "cell_type": "markdown",
   "metadata": {},
   "source": [
    "### Evaluate SVM-MC (LIBLINEAR)"
   ]
  },
  {
   "cell_type": "code",
   "execution_count": 417,
   "metadata": {
    "collapsed": true,
    "jupyter": {
     "outputs_hidden": true
    }
   },
   "outputs": [
    {
     "name": "stdout",
     "output_type": "stream",
     "text": [
      "\n",
      "Evaluating SVM MC at c:7 with k = 0 Corrupted lines\n",
      "Accuracy = 67.7189% (17741/26198) (classification)\n",
      "26189\n",
      "17732\n",
      "\n",
      "Evaluating SVM MC at c:7 with k = 500 Corrupted lines\n",
      "Accuracy = 66.0814% (17312/26198) (classification)\n",
      "26189\n",
      "17304\n",
      "\n",
      "Evaluating SVM MC at c:7 with k = 1000 Corrupted lines\n",
      "Accuracy = 65.1118% (17058/26198) (classification)\n",
      "26189\n",
      "17049\n",
      "\n",
      "Evaluating SVM MC at c:7 with k = 1500 Corrupted lines\n",
      "Accuracy = 64.5698% (16916/26198) (classification)\n",
      "26189\n",
      "16908\n",
      "\n",
      "Evaluating SVM MC at c:7 with k = 2000 Corrupted lines\n",
      "Accuracy = 64.6042% (16925/26198) (classification)\n",
      "26189\n",
      "16917\n",
      "\n",
      "Evaluating SVM MC at c:7 with k = 2500 Corrupted lines\n",
      "Accuracy = 64.1538% (16807/26198) (classification)\n",
      "26189\n",
      "16799\n"
     ]
    }
   ],
   "source": [
    "for i,k in enumerate(corruptLines[0:]):\n",
    "    svmMcFile  = os.path.join(dataPath, str(k)+'corr_liblinear_svm_train.txt')\n",
    "    learnOptions = '-c ' +str(cOpt)\n",
    "    label = '_k_'+str(k)\n",
    "    # Liblinear MC\n",
    "    print(\"\\nEvaluating SVM MC at c:{} with k = {} Corrupted lines\".format(cOpt, k))\n",
    "    # Evaluate and get letter and word accuracies and predicted labels (unsused)\n",
    "    accCorr[0,2,i], accCorr[1,2,i], l = SVM_MC_eval(svmMcFile, libSVMTestData, sanTestLabels[:,0], wordTestIdxs, c = cOpt, label = label)"
   ]
  },
  {
   "cell_type": "code",
   "execution_count": 477,
   "metadata": {},
   "outputs": [],
   "source": []
  },
  {
   "cell_type": "markdown",
   "metadata": {},
   "source": [
    "### Plot All Results"
   ]
  },
  {
   "cell_type": "code",
   "execution_count": 480,
   "metadata": {},
   "outputs": [
    {
     "data": {
      "image/png": "[encoded data removed]",
      "text/plain": [
       "<Figure size 1404x360 with 3 Axes>"
      ]
     },
     "metadata": {
      "needs_background": "light"
     },
     "output_type": "display_data"
    },
    {
     "data": {
      "image/png": "[encoded data removed]",
      "text/plain": [
       "<Figure size 1404x360 with 3 Axes>"
      ]
     },
     "metadata": {
      "needs_background": "light"
     },
     "output_type": "display_data"
    }
   ],
   "source": [
    "# Letter-wise Accuracy\n",
    "plot_accuracy(corruptLines, accCorr[0,:,:], labels = ['CRF','SVM-HMM', 'SVM-MC'], title = 'Letter-wise Accuracy vs K Number Of Transformations', saveDir=resPath)\n",
    "# Word-wise Accuracy\n",
    "plot_accuracy(corruptLines, accCorr[1,:,:], labels = ['CRF','SVM-HMM', 'SVM-MC'], title = 'Word-wise Accuracy vs K Number Of Transformations', saveDir = resPath)"
   ]
  },
  {
   "cell_type": "code",
   "execution_count": null,
   "metadata": {},
   "outputs": [],
   "source": []
  }
 ],
 "metadata": {
  "kernelspec": {
   "display_name": "Python 3",
   "language": "python",
   "name": "python3"
  },
  "language_info": {
   "codemirror_mode": {
    "name": "ipython",
    "version": 3
   },
   "file_extension": ".py",
   "mimetype": "text/x-python",
   "name": "python",
   "nbconvert_exporter": "python",
   "pygments_lexer": "ipython3",
   "version": "3.6.8"
  }
 },
 "nbformat": 4,
 "nbformat_minor": 4
}
